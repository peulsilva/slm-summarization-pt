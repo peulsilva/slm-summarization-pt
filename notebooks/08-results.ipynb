{
 "cells": [
  {
   "cell_type": "code",
   "execution_count": 2,
   "metadata": {},
   "outputs": [],
   "source": [
    "%load_ext autoreload\n",
    "%autoreload 2"
   ]
  },
  {
   "cell_type": "code",
   "execution_count": 3,
   "metadata": {},
   "outputs": [
    {
     "name": "stdout",
     "output_type": "stream",
     "text": [
      "Wed Mar 12 12:24:16 2025       \n",
      "+-----------------------------------------------------------------------------------------+\n",
      "| NVIDIA-SMI 570.124.04             Driver Version: 570.124.04     CUDA Version: 12.8     |\n",
      "|-----------------------------------------+------------------------+----------------------+\n",
      "| GPU  Name                 Persistence-M | Bus-Id          Disp.A | Volatile Uncorr. ECC |\n",
      "| Fan  Temp   Perf          Pwr:Usage/Cap |           Memory-Usage | GPU-Util  Compute M. |\n",
      "|                                         |                        |               MIG M. |\n",
      "|=========================================+========================+======================|\n",
      "|   0  NVIDIA RTX A5000               Off |   00000000:01:00.0 Off |                  Off |\n",
      "| 60%   84C    P2            229W /  230W |   14230MiB /  24564MiB |     82%      Default |\n",
      "|                                         |                        |                  N/A |\n",
      "+-----------------------------------------+------------------------+----------------------+\n",
      "                                                                                         \n",
      "+-----------------------------------------------------------------------------------------+\n",
      "| Processes:                                                                              |\n",
      "|  GPU   GI   CI              PID   Type   Process name                        GPU Memory |\n",
      "|        ID   ID                                                               Usage      |\n",
      "|=========================================================================================|\n",
      "|    0   N/A  N/A          426193      C   ...naconda3-2023.07-1/bin/python        268MiB |\n",
      "|    0   N/A  N/A          467312      C   ...naconda3-2023.07-1/bin/python        268MiB |\n",
      "|    0   N/A  N/A          974716      G   /usr/libexec/Xorg                        94MiB |\n",
      "|    0   N/A  N/A          974751      G   /usr/bin/gnome-shell                     19MiB |\n",
      "|    0   N/A  N/A         1424068      C   /usr/local/Anaconda3/bin/python       13510MiB |\n",
      "+-----------------------------------------------------------------------------------------+\n"
     ]
    }
   ],
   "source": [
    "!nvidia-smi"
   ]
  },
  {
   "cell_type": "code",
   "execution_count": 4,
   "metadata": {},
   "outputs": [
    {
     "name": "stdout",
     "output_type": "stream",
     "text": [
      "🦥 Unsloth: Will patch your computer to enable 2x faster free finetuning.\n",
      "🦥 Unsloth Zoo will now patch everything to make training faster!\n"
     ]
    }
   ],
   "source": [
    "import os\n",
    "\n",
    "if 'notebooks' in os.getcwd():\n",
    "    os.chdir(\"..\")\n",
    "\n",
    "\n",
    "from datasets import load_dataset, Dataset\n",
    "from huggingface_hub import notebook_login\n",
    "import pandas as pd\n",
    "import numpy as np\n",
    "import matplotlib.pyplot as plt\n",
    "import seaborn as sns\n",
    "import requests\n",
    "import json\n",
    "import time\n",
    "import csv\n",
    "from concurrent.futures import ThreadPoolExecutor, as_completed\n",
    "from tqdm import tqdm\n",
    "from transformers import pipeline, AutoModelForCausalLM, AutoTokenizer, BitsAndBytesConfig\n",
    "import aiohttp\n",
    "import asyncio\n",
    "from tqdm.asyncio import tqdm\n",
    "import torch\n",
    "import scienceplots\n",
    "plt.style.use(['science', 'no-latex'])\n",
    "from IPython.display import clear_output\n",
    "\n",
    "from src.text_utils import trim_text_to_token_limit\n",
    "from unsloth import FastLanguageModel\n",
    "from unsloth.chat_templates import get_chat_template\n",
    "from langdetect import detect\n",
    "\n",
    "from src.train_test_split import stratified_train_test_split\n",
    "\n",
    "import evaluate\n",
    "\n",
    "\n",
    "tqdm.pandas()"
   ]
  },
  {
   "cell_type": "markdown",
   "metadata": {},
   "source": [
    "# Results\n",
    "\n",
    "Now that we have selected the optimal value of $r$ on the validation set, we will see how it performs on the test set"
   ]
  },
  {
   "cell_type": "code",
   "execution_count": 5,
   "metadata": {},
   "outputs": [],
   "source": [
    "tokenizer = AutoTokenizer.from_pretrained(\"Qwen/Qwen2.5-0.5B-Instruct\", cache_dir = '/Data')"
   ]
  },
  {
   "cell_type": "code",
   "execution_count": 6,
   "metadata": {},
   "outputs": [],
   "source": [
    "torch.cuda.set_per_process_memory_fraction(0.6, device=0)\n"
   ]
  },
  {
   "cell_type": "code",
   "execution_count": 7,
   "metadata": {},
   "outputs": [],
   "source": [
    "base_data = pd.read_json(\"data/wikipedia_dataset.json\")"
   ]
  },
  {
   "cell_type": "code",
   "execution_count": 8,
   "metadata": {},
   "outputs": [],
   "source": [
    "train_df , temp_df = stratified_train_test_split(base_data, test_size=0.4)\n",
    "val_df , test_df = stratified_train_test_split(temp_df, test_size=0.5)\n",
    "train_idx = train_df.id.tolist()\n",
    "val_idx = val_df.id.tolist()\n",
    "test_idx = test_df.id.tolist()"
   ]
  },
  {
   "cell_type": "markdown",
   "metadata": {},
   "source": [
    "## Loading data"
   ]
  },
  {
   "cell_type": "code",
   "execution_count": 9,
   "metadata": {},
   "outputs": [],
   "source": [
    "base_path = \"data/generated_dataset_test_100_qwen-0.5b-instruct-summary-pt-rank{lora_rank}.pkl\""
   ]
  },
  {
   "cell_type": "code",
   "execution_count": 11,
   "metadata": {},
   "outputs": [],
   "source": [
    "all_df = []\n",
    "raw_model_df = pd.read_pickle(\"data/generated_dataset_Qwen2.5-0.5B-Instruct.pkl\")\n",
    "raw_model_df['model_name'] = \"Qwen-0.5B-Instruct\"\n",
    "\n",
    "all_df.append(raw_model_df)\n",
    "\n",
    "raw_model_df = pd.read_pickle(\"data/generated_dataset_test_100_Llama-3.2-1B-Instruct-bnb-4bit.pkl\")\n",
    "raw_model_df['model_name'] = \"Llama-1B-Instruct\"\n",
    "\n",
    "all_df.append(raw_model_df)\n",
    "\n",
    "raw_model_df = pd.read_pickle(\"data/generated_dataset_test_100_Qwen2.5-3B-Instruct-unsloth-bnb-4bit.pkl\")\n",
    "raw_model_df['model_name'] = \"Qwen-3B-Instruct\"\n",
    "\n",
    "all_df.append(raw_model_df)\n",
    "\n",
    "\n",
    "for lora_rank in [64]:\n",
    "    temp = pd.read_pickle(base_path.format(lora_rank = lora_rank))\n",
    "    \n",
    "    temp['model_name'] = \"Finetuned Model\"\n",
    "    all_df.append(temp)\n"
   ]
  },
  {
   "cell_type": "code",
   "execution_count": 12,
   "metadata": {},
   "outputs": [],
   "source": [
    "reference_summary = pd.read_pickle(\"data/generated_dataset_100_Meta-Llama-3.1-8B-Instruct-bnb-4bit_2.pkl\")\\\n",
    "    .rename(columns = {'generated_text': 'reference_summary'})\n",
    "\n",
    "# all_df.append(reference_summary)"
   ]
  },
  {
   "cell_type": "code",
   "execution_count": 13,
   "metadata": {},
   "outputs": [
    {
     "data": {
      "text/html": [
       "<div>\n",
       "<style scoped>\n",
       "    .dataframe tbody tr th:only-of-type {\n",
       "        vertical-align: middle;\n",
       "    }\n",
       "\n",
       "    .dataframe tbody tr th {\n",
       "        vertical-align: top;\n",
       "    }\n",
       "\n",
       "    .dataframe thead th {\n",
       "        text-align: right;\n",
       "    }\n",
       "</style>\n",
       "<table border=\"1\" class=\"dataframe\">\n",
       "  <thead>\n",
       "    <tr style=\"text-align: right;\">\n",
       "      <th></th>\n",
       "      <th>id</th>\n",
       "      <th>generated_text</th>\n",
       "      <th>model_name</th>\n",
       "    </tr>\n",
       "  </thead>\n",
       "  <tbody>\n",
       "    <tr>\n",
       "      <th>0</th>\n",
       "      <td>57237</td>\n",
       "      <td>A Los Angeles Lakers é uma equipe de basqueteb...</td>\n",
       "      <td>Qwen-0.5B-Instruct</td>\n",
       "    </tr>\n",
       "    <tr>\n",
       "      <th>1</th>\n",
       "      <td>10306</td>\n",
       "      <td>O elétron é uma partícula subatômica com símbo...</td>\n",
       "      <td>Qwen-0.5B-Instruct</td>\n",
       "    </tr>\n",
       "    <tr>\n",
       "      <th>2</th>\n",
       "      <td>2118886</td>\n",
       "      <td>A rainha Sofia, filha do rei Constantino I, fo...</td>\n",
       "      <td>Qwen-0.5B-Instruct</td>\n",
       "    </tr>\n",
       "    <tr>\n",
       "      <th>3</th>\n",
       "      <td>1695</td>\n",
       "      <td>Aqui está um resumo do texto em português:\\n\\n...</td>\n",
       "      <td>Qwen-0.5B-Instruct</td>\n",
       "    </tr>\n",
       "    <tr>\n",
       "      <th>4</th>\n",
       "      <td>5448408</td>\n",
       "      <td>A crise migratória venezuelana é uma emigração...</td>\n",
       "      <td>Qwen-0.5B-Instruct</td>\n",
       "    </tr>\n",
       "    <tr>\n",
       "      <th>...</th>\n",
       "      <td>...</td>\n",
       "      <td>...</td>\n",
       "      <td>...</td>\n",
       "    </tr>\n",
       "    <tr>\n",
       "      <th>10995</th>\n",
       "      <td>5968453</td>\n",
       "      <td>O texto não fornece um resumo de no máximo 100...</td>\n",
       "      <td>Finetuned Model</td>\n",
       "    </tr>\n",
       "    <tr>\n",
       "      <th>10996</th>\n",
       "      <td>10830</td>\n",
       "      <td>O texto apresenta eventos históricos, incluind...</td>\n",
       "      <td>Finetuned Model</td>\n",
       "    </tr>\n",
       "    <tr>\n",
       "      <th>10997</th>\n",
       "      <td>10667</td>\n",
       "      <td>O texto apresenta eventos históricos, incluind...</td>\n",
       "      <td>Finetuned Model</td>\n",
       "    </tr>\n",
       "    <tr>\n",
       "      <th>10998</th>\n",
       "      <td>10894</td>\n",
       "      <td>O texto apresenta eventos históricos, incluind...</td>\n",
       "      <td>Finetuned Model</td>\n",
       "    </tr>\n",
       "    <tr>\n",
       "      <th>10999</th>\n",
       "      <td>9346</td>\n",
       "      <td>O texto apresenta eventos históricos, incluind...</td>\n",
       "      <td>Finetuned Model</td>\n",
       "    </tr>\n",
       "  </tbody>\n",
       "</table>\n",
       "<p>11000 rows × 3 columns</p>\n",
       "</div>"
      ],
      "text/plain": [
       "            id                                     generated_text  \\\n",
       "0        57237  A Los Angeles Lakers é uma equipe de basqueteb...   \n",
       "1        10306  O elétron é uma partícula subatômica com símbo...   \n",
       "2      2118886  A rainha Sofia, filha do rei Constantino I, fo...   \n",
       "3         1695  Aqui está um resumo do texto em português:\\n\\n...   \n",
       "4      5448408  A crise migratória venezuelana é uma emigração...   \n",
       "...        ...                                                ...   \n",
       "10995  5968453  O texto não fornece um resumo de no máximo 100...   \n",
       "10996    10830  O texto apresenta eventos históricos, incluind...   \n",
       "10997    10667  O texto apresenta eventos históricos, incluind...   \n",
       "10998    10894  O texto apresenta eventos históricos, incluind...   \n",
       "10999     9346  O texto apresenta eventos históricos, incluind...   \n",
       "\n",
       "               model_name  \n",
       "0      Qwen-0.5B-Instruct  \n",
       "1      Qwen-0.5B-Instruct  \n",
       "2      Qwen-0.5B-Instruct  \n",
       "3      Qwen-0.5B-Instruct  \n",
       "4      Qwen-0.5B-Instruct  \n",
       "...                   ...  \n",
       "10995     Finetuned Model  \n",
       "10996     Finetuned Model  \n",
       "10997     Finetuned Model  \n",
       "10998     Finetuned Model  \n",
       "10999     Finetuned Model  \n",
       "\n",
       "[11000 rows x 3 columns]"
      ]
     },
     "execution_count": 13,
     "metadata": {},
     "output_type": "execute_result"
    }
   ],
   "source": [
    "generated_summaries = pd.concat(all_df, ignore_index=True)\n",
    "generated_summaries"
   ]
  },
  {
   "cell_type": "code",
   "execution_count": 14,
   "metadata": {},
   "outputs": [],
   "source": [
    "test_mask = generated_summaries\\\n",
    "    .id\\\n",
    "    .isin(test_idx)\n",
    "test_summaries = generated_summaries[test_mask]"
   ]
  },
  {
   "cell_type": "code",
   "execution_count": 15,
   "metadata": {},
   "outputs": [
    {
     "data": {
      "text/html": [
       "<div>\n",
       "<style scoped>\n",
       "    .dataframe tbody tr th:only-of-type {\n",
       "        vertical-align: middle;\n",
       "    }\n",
       "\n",
       "    .dataframe tbody tr th {\n",
       "        vertical-align: top;\n",
       "    }\n",
       "\n",
       "    .dataframe thead th {\n",
       "        text-align: right;\n",
       "    }\n",
       "</style>\n",
       "<table border=\"1\" class=\"dataframe\">\n",
       "  <thead>\n",
       "    <tr style=\"text-align: right;\">\n",
       "      <th></th>\n",
       "      <th>id</th>\n",
       "      <th>generated_text</th>\n",
       "      <th>model_name</th>\n",
       "      <th>reference_summary</th>\n",
       "    </tr>\n",
       "  </thead>\n",
       "  <tbody>\n",
       "    <tr>\n",
       "      <th>0</th>\n",
       "      <td>57237</td>\n",
       "      <td>A Los Angeles Lakers é uma equipe de basqueteb...</td>\n",
       "      <td>Qwen-0.5B-Instruct</td>\n",
       "      <td>O Los Angeles Lakers é um time de basquetebol ...</td>\n",
       "    </tr>\n",
       "    <tr>\n",
       "      <th>1</th>\n",
       "      <td>10306</td>\n",
       "      <td>O elétron é uma partícula subatômica com símbo...</td>\n",
       "      <td>Qwen-0.5B-Instruct</td>\n",
       "      <td>O elétron é uma partícula subatômica com carga...</td>\n",
       "    </tr>\n",
       "    <tr>\n",
       "      <th>2</th>\n",
       "      <td>115343</td>\n",
       "      <td>Aqui está um resumo do texto:\\n\\nO Athlon é um...</td>\n",
       "      <td>Qwen-0.5B-Instruct</td>\n",
       "      <td>O Athlon é uma série de processadores da plata...</td>\n",
       "    </tr>\n",
       "    <tr>\n",
       "      <th>3</th>\n",
       "      <td>939</td>\n",
       "      <td>A Guiné-Bissau é uma região do continente afri...</td>\n",
       "      <td>Qwen-0.5B-Instruct</td>\n",
       "      <td>A Guiné-Bissau é um país da África Ocidental c...</td>\n",
       "    </tr>\n",
       "    <tr>\n",
       "      <th>4</th>\n",
       "      <td>8695</td>\n",
       "      <td>O africâner é uma língua germânica do ramo ind...</td>\n",
       "      <td>Qwen-0.5B-Instruct</td>\n",
       "      <td>O africâner, também conhecido como afrikaans, ...</td>\n",
       "    </tr>\n",
       "    <tr>\n",
       "      <th>...</th>\n",
       "      <td>...</td>\n",
       "      <td>...</td>\n",
       "      <td>...</td>\n",
       "      <td>...</td>\n",
       "    </tr>\n",
       "    <tr>\n",
       "      <th>3995</th>\n",
       "      <td>2197537</td>\n",
       "      <td>Luis Alberto Suárez é um futebolista uruguaio ...</td>\n",
       "      <td>Finetuned Model</td>\n",
       "      <td>O texto lista quatro pessoas com o nome Luis S...</td>\n",
       "    </tr>\n",
       "    <tr>\n",
       "      <th>3996</th>\n",
       "      <td>97695</td>\n",
       "      <td>Fontvieille é um bairro do Mónaco, localizado ...</td>\n",
       "      <td>Finetuned Model</td>\n",
       "      <td>Fontvieille é um bairro do Mónaco localizado e...</td>\n",
       "    </tr>\n",
       "    <tr>\n",
       "      <th>3997</th>\n",
       "      <td>87314</td>\n",
       "      <td>Sabbia é uma comuna italiana da região do Piem...</td>\n",
       "      <td>Finetuned Model</td>\n",
       "      <td>Sabbia é uma comuna italiana localizada na reg...</td>\n",
       "    </tr>\n",
       "    <tr>\n",
       "      <th>3998</th>\n",
       "      <td>10830</td>\n",
       "      <td>O texto apresenta eventos históricos, incluind...</td>\n",
       "      <td>Finetuned Model</td>\n",
       "      <td>Infelizmente, não há texto disponível para ger...</td>\n",
       "    </tr>\n",
       "    <tr>\n",
       "      <th>3999</th>\n",
       "      <td>10894</td>\n",
       "      <td>O texto apresenta eventos históricos, incluind...</td>\n",
       "      <td>Finetuned Model</td>\n",
       "      <td>Infelizmente, não há texto disponível para ger...</td>\n",
       "    </tr>\n",
       "  </tbody>\n",
       "</table>\n",
       "<p>4000 rows × 4 columns</p>\n",
       "</div>"
      ],
      "text/plain": [
       "           id                                     generated_text  \\\n",
       "0       57237  A Los Angeles Lakers é uma equipe de basqueteb...   \n",
       "1       10306  O elétron é uma partícula subatômica com símbo...   \n",
       "2      115343  Aqui está um resumo do texto:\\n\\nO Athlon é um...   \n",
       "3         939  A Guiné-Bissau é uma região do continente afri...   \n",
       "4        8695  O africâner é uma língua germânica do ramo ind...   \n",
       "...       ...                                                ...   \n",
       "3995  2197537  Luis Alberto Suárez é um futebolista uruguaio ...   \n",
       "3996    97695  Fontvieille é um bairro do Mónaco, localizado ...   \n",
       "3997    87314  Sabbia é uma comuna italiana da região do Piem...   \n",
       "3998    10830  O texto apresenta eventos históricos, incluind...   \n",
       "3999    10894  O texto apresenta eventos históricos, incluind...   \n",
       "\n",
       "              model_name                                  reference_summary  \n",
       "0     Qwen-0.5B-Instruct  O Los Angeles Lakers é um time de basquetebol ...  \n",
       "1     Qwen-0.5B-Instruct  O elétron é uma partícula subatômica com carga...  \n",
       "2     Qwen-0.5B-Instruct  O Athlon é uma série de processadores da plata...  \n",
       "3     Qwen-0.5B-Instruct  A Guiné-Bissau é um país da África Ocidental c...  \n",
       "4     Qwen-0.5B-Instruct  O africâner, também conhecido como afrikaans, ...  \n",
       "...                  ...                                                ...  \n",
       "3995     Finetuned Model  O texto lista quatro pessoas com o nome Luis S...  \n",
       "3996     Finetuned Model  Fontvieille é um bairro do Mónaco localizado e...  \n",
       "3997     Finetuned Model  Sabbia é uma comuna italiana localizada na reg...  \n",
       "3998     Finetuned Model  Infelizmente, não há texto disponível para ger...  \n",
       "3999     Finetuned Model  Infelizmente, não há texto disponível para ger...  \n",
       "\n",
       "[4000 rows x 4 columns]"
      ]
     },
     "execution_count": 15,
     "metadata": {},
     "output_type": "execute_result"
    }
   ],
   "source": [
    "df = pd.merge(\n",
    "    test_summaries,\n",
    "    reference_summary,\n",
    "    on='id',\n",
    "    how = 'left'\n",
    ")\n",
    "df"
   ]
  },
  {
   "cell_type": "markdown",
   "metadata": {},
   "source": [
    "## Qualitative analysis"
   ]
  },
  {
   "cell_type": "code",
   "execution_count": 16,
   "metadata": {},
   "outputs": [
    {
     "name": "stdout",
     "output_type": "stream",
     "text": [
      "O Los Angeles Lakers é um time de basquetebol da NBA que foi fundado em 1947 em Minneapolis, Minnesota. A equipe venceu cinco títulos da liga antes de uma queda de público. O Lakers conta com 56 aparições na pós-temporada, 33 títulos da Divisão do Pacífico e 32 títulos da Conferência Oeste. O time é detentora de alguns recordes da Liga e é considerado uma das franquias mais populares da NBA.<|eot_id|><|im_end|>\n"
     ]
    }
   ],
   "source": [
    "print(df.query('model_name == \"Finetuned Model\"').iloc[0]['generated_text'])"
   ]
  },
  {
   "cell_type": "markdown",
   "metadata": {},
   "source": [
    "## Sequence length\n",
    "\n",
    "We verify if the summary has ~ 100 words"
   ]
  },
  {
   "cell_type": "code",
   "execution_count": 17,
   "metadata": {},
   "outputs": [
    {
     "name": "stderr",
     "output_type": "stream",
     "text": [
      "100%|██████████| 4000/4000 [00:00<00:00, 201649.23it/s]\n",
      "100%|██████████| 4000/4000 [00:00<00:00, 195563.72it/s]\n"
     ]
    }
   ],
   "source": [
    "df['reference_length'] = df['reference_summary']\\\n",
    "    .progress_apply(lambda x: len(x.split()))\n",
    "df['generated_length'] = df['generated_text']\\\n",
    "    .progress_apply(lambda x: len(x.split()))"
   ]
  },
  {
   "cell_type": "code",
   "execution_count": 18,
   "metadata": {},
   "outputs": [
    {
     "data": {
      "text/plain": [
       "<Axes: xlabel='reference_length', ylabel='Count'>"
      ]
     },
     "execution_count": 18,
     "metadata": {},
     "output_type": "execute_result"
    },
    {
     "data": {
      "image/png": "[encoded data removed]",
      "text/plain": [
       "<Figure size 800x500 with 1 Axes>"
      ]
     },
     "metadata": {},
     "output_type": "display_data"
    }
   ],
   "source": [
    "plt.rcParams.update({'font.size': 18})\n",
    "plt.figure(figsize = (8,5))\n",
    "sns.histplot(\n",
    "    df,\n",
    "    x = 'reference_length',\n",
    ")"
   ]
  },
  {
   "cell_type": "code",
   "execution_count": 19,
   "metadata": {},
   "outputs": [
    {
     "data": {
      "text/plain": [
       "<matplotlib.legend.Legend at 0x7fab3a5ace90>"
      ]
     },
     "execution_count": 19,
     "metadata": {},
     "output_type": "execute_result"
    },
    {
     "data": {
      "image/png": "[encoded data removed]",
      "text/plain": [
       "<Figure size 1200x500 with 1 Axes>"
      ]
     },
     "metadata": {},
     "output_type": "display_data"
    }
   ],
   "source": [
    "plt.rcParams.update({'font.size': 18})\n",
    "plt.figure(figsize = (12,5))\n",
    "sns.boxplot(\n",
    "    df,\n",
    "    y = 'generated_length',\n",
    "    x='model_name',\n",
    "    # palette= 'viridis_r',\n",
    "    # alpha = 0.6\n",
    ")\n",
    "\n",
    "plt.hlines(100, xmin=-0.5, xmax = 3.5, colors='red', linestyles='dashed', linewidth = 2, label = 'Target')\n",
    "\n",
    "plt.ylabel(\"Number of words\")\n",
    "plt.xlabel(\"Model Name\")\n",
    "plt.legend()"
   ]
  },
  {
   "cell_type": "code",
   "execution_count": 20,
   "metadata": {},
   "outputs": [
    {
     "data": {
      "text/plain": [
       "Text(0.5, 0, 'Number of words')"
      ]
     },
     "execution_count": 20,
     "metadata": {},
     "output_type": "execute_result"
    },
    {
     "data": {
      "image/png": "[encoded data removed]",
      "text/plain": [
       "<Figure size 800x500 with 1 Axes>"
      ]
     },
     "metadata": {},
     "output_type": "display_data"
    }
   ],
   "source": [
    "plt.rcParams.update({'font.size': 18})\n",
    "plt.figure(figsize = (8,5))\n",
    "sns.histplot(\n",
    "    df,\n",
    "    x = 'generated_length',\n",
    "    hue='model_name',\n",
    "    palette= 'viridis_r',\n",
    "    # alpha = 0.6\n",
    ")\n",
    "\n",
    "plt.xlabel(\"Number of words\")"
   ]
  },
  {
   "cell_type": "code",
   "execution_count": 21,
   "metadata": {},
   "outputs": [
    {
     "data": {
      "text/html": [
       "<div>\n",
       "<style scoped>\n",
       "    .dataframe tbody tr th:only-of-type {\n",
       "        vertical-align: middle;\n",
       "    }\n",
       "\n",
       "    .dataframe tbody tr th {\n",
       "        vertical-align: top;\n",
       "    }\n",
       "\n",
       "    .dataframe thead th {\n",
       "        text-align: right;\n",
       "    }\n",
       "</style>\n",
       "<table border=\"1\" class=\"dataframe\">\n",
       "  <thead>\n",
       "    <tr style=\"text-align: right;\">\n",
       "      <th></th>\n",
       "      <th>count</th>\n",
       "      <th>mean</th>\n",
       "      <th>std</th>\n",
       "      <th>min</th>\n",
       "      <th>25%</th>\n",
       "      <th>50%</th>\n",
       "      <th>75%</th>\n",
       "      <th>max</th>\n",
       "    </tr>\n",
       "    <tr>\n",
       "      <th>model_name</th>\n",
       "      <th></th>\n",
       "      <th></th>\n",
       "      <th></th>\n",
       "      <th></th>\n",
       "      <th></th>\n",
       "      <th></th>\n",
       "      <th></th>\n",
       "      <th></th>\n",
       "    </tr>\n",
       "  </thead>\n",
       "  <tbody>\n",
       "    <tr>\n",
       "      <th>Finetuned Model</th>\n",
       "      <td>1000.0</td>\n",
       "      <td>97.092</td>\n",
       "      <td>27.217758</td>\n",
       "      <td>32.0</td>\n",
       "      <td>85.00</td>\n",
       "      <td>93.0</td>\n",
       "      <td>103.0</td>\n",
       "      <td>384.0</td>\n",
       "    </tr>\n",
       "    <tr>\n",
       "      <th>Llama-1B-Instruct</th>\n",
       "      <td>1000.0</td>\n",
       "      <td>79.323</td>\n",
       "      <td>30.152377</td>\n",
       "      <td>14.0</td>\n",
       "      <td>65.00</td>\n",
       "      <td>74.0</td>\n",
       "      <td>86.0</td>\n",
       "      <td>324.0</td>\n",
       "    </tr>\n",
       "    <tr>\n",
       "      <th>Qwen-0.5B-Instruct</th>\n",
       "      <td>1000.0</td>\n",
       "      <td>152.500</td>\n",
       "      <td>87.459460</td>\n",
       "      <td>3.0</td>\n",
       "      <td>87.00</td>\n",
       "      <td>117.0</td>\n",
       "      <td>214.0</td>\n",
       "      <td>442.0</td>\n",
       "    </tr>\n",
       "    <tr>\n",
       "      <th>Qwen-3B-Instruct</th>\n",
       "      <td>1000.0</td>\n",
       "      <td>75.969</td>\n",
       "      <td>16.774487</td>\n",
       "      <td>12.0</td>\n",
       "      <td>64.75</td>\n",
       "      <td>75.0</td>\n",
       "      <td>87.0</td>\n",
       "      <td>162.0</td>\n",
       "    </tr>\n",
       "  </tbody>\n",
       "</table>\n",
       "</div>"
      ],
      "text/plain": [
       "                     count     mean        std   min    25%    50%    75%  \\\n",
       "model_name                                                                  \n",
       "Finetuned Model     1000.0   97.092  27.217758  32.0  85.00   93.0  103.0   \n",
       "Llama-1B-Instruct   1000.0   79.323  30.152377  14.0  65.00   74.0   86.0   \n",
       "Qwen-0.5B-Instruct  1000.0  152.500  87.459460   3.0  87.00  117.0  214.0   \n",
       "Qwen-3B-Instruct    1000.0   75.969  16.774487  12.0  64.75   75.0   87.0   \n",
       "\n",
       "                      max  \n",
       "model_name                 \n",
       "Finetuned Model     384.0  \n",
       "Llama-1B-Instruct   324.0  \n",
       "Qwen-0.5B-Instruct  442.0  \n",
       "Qwen-3B-Instruct    162.0  "
      ]
     },
     "execution_count": 21,
     "metadata": {},
     "output_type": "execute_result"
    }
   ],
   "source": [
    "df.groupby(\"model_name\")\\\n",
    "    .generated_length\\\n",
    "    .describe()"
   ]
  },
  {
   "cell_type": "markdown",
   "metadata": {},
   "source": [
    "## Language\n",
    "\n",
    "Checking how many texts are not in portuguese"
   ]
  },
  {
   "cell_type": "code",
   "execution_count": 23,
   "metadata": {},
   "outputs": [
    {
     "name": "stderr",
     "output_type": "stream",
     "text": [
      "  0%|          | 0/4000 [00:00<?, ?it/s]"
     ]
    },
    {
     "name": "stderr",
     "output_type": "stream",
     "text": [
      "100%|██████████| 4000/4000 [00:09<00:00, 426.44it/s]\n"
     ]
    }
   ],
   "source": [
    "def detect_language(x):\n",
    "    try:\n",
    "        return detect(x)\n",
    "    \n",
    "    except:\n",
    "        return None\n",
    "df['language'] = df['generated_text'].progress_apply(detect_language)"
   ]
  },
  {
   "cell_type": "code",
   "execution_count": 24,
   "metadata": {},
   "outputs": [
    {
     "name": "stderr",
     "output_type": "stream",
     "text": [
      "100%|██████████| 4/4 [00:00<00:00, 2107.43it/s]\n"
     ]
    },
    {
     "data": {
      "text/plain": [
       "model_name\n",
       "Finetuned Model       0.004\n",
       "Llama-1B-Instruct     0.002\n",
       "Qwen-0.5B-Instruct    0.019\n",
       "Qwen-3B-Instruct      0.000\n",
       "dtype: float64"
      ]
     },
     "execution_count": 24,
     "metadata": {},
     "output_type": "execute_result"
    }
   ],
   "source": [
    "def count_non_portuguese_text(df):\n",
    "    return (df['language'] != 'pt').sum()/len(df)\n",
    "\n",
    "df.groupby(\"model_name\")\\\n",
    "    .progress_apply(count_non_portuguese_text)"
   ]
  },
  {
   "cell_type": "code",
   "execution_count": 25,
   "metadata": {},
   "outputs": [],
   "source": [
    "predictions = df[\"generated_text\"].tolist()\n",
    "references = df[\"reference_summary\"].tolist()"
   ]
  },
  {
   "cell_type": "code",
   "execution_count": 26,
   "metadata": {},
   "outputs": [
    {
     "name": "stderr",
     "output_type": "stream",
     "text": [
      "Computing ROUGE per checkpoint: 100%|██████████| 4/4 [00:16<00:00,  4.14s/it]\n"
     ]
    }
   ],
   "source": [
    "checkpoint_groups = df.groupby(\"model_name\")\n",
    "rouge = evaluate.load(\"rouge\")\n",
    "# Store results\n",
    "checkpoint_rouge_scores = {}\n",
    "\n",
    "# Iterate over each checkpoint with tqdm\n",
    "for checkpoint, group in tqdm(checkpoint_groups, desc=\"Computing ROUGE per checkpoint\"):\n",
    "    predictions = group[\"generated_text\"].tolist()\n",
    "    references = group[\"reference_summary\"].tolist()\n",
    "    \n",
    "    # Compute ROUGE for this checkpoint\n",
    "    scores = rouge.compute(predictions=predictions, references=references)\n",
    "    \n",
    "    # Store the results\n",
    "    checkpoint_rouge_scores[checkpoint] = scores"
   ]
  },
  {
   "cell_type": "code",
   "execution_count": 27,
   "metadata": {},
   "outputs": [
    {
     "data": {
      "text/html": [
       "<div>\n",
       "<style scoped>\n",
       "    .dataframe tbody tr th:only-of-type {\n",
       "        vertical-align: middle;\n",
       "    }\n",
       "\n",
       "    .dataframe tbody tr th {\n",
       "        vertical-align: top;\n",
       "    }\n",
       "\n",
       "    .dataframe thead th {\n",
       "        text-align: right;\n",
       "    }\n",
       "</style>\n",
       "<table border=\"1\" class=\"dataframe\">\n",
       "  <thead>\n",
       "    <tr style=\"text-align: right;\">\n",
       "      <th></th>\n",
       "      <th>rouge1</th>\n",
       "      <th>rouge2</th>\n",
       "      <th>rougeL</th>\n",
       "      <th>rougeLsum</th>\n",
       "    </tr>\n",
       "  </thead>\n",
       "  <tbody>\n",
       "    <tr>\n",
       "      <th>Finetuned Model</th>\n",
       "      <td>0.544618</td>\n",
       "      <td>0.324723</td>\n",
       "      <td>0.409241</td>\n",
       "      <td>0.410528</td>\n",
       "    </tr>\n",
       "    <tr>\n",
       "      <th>Llama-1B-Instruct</th>\n",
       "      <td>0.501850</td>\n",
       "      <td>0.274578</td>\n",
       "      <td>0.367534</td>\n",
       "      <td>0.371002</td>\n",
       "    </tr>\n",
       "    <tr>\n",
       "      <th>Qwen-0.5B-Instruct</th>\n",
       "      <td>0.404482</td>\n",
       "      <td>0.212115</td>\n",
       "      <td>0.293828</td>\n",
       "      <td>0.296098</td>\n",
       "    </tr>\n",
       "    <tr>\n",
       "      <th>Qwen-3B-Instruct</th>\n",
       "      <td>0.499342</td>\n",
       "      <td>0.254859</td>\n",
       "      <td>0.351673</td>\n",
       "      <td>0.352539</td>\n",
       "    </tr>\n",
       "  </tbody>\n",
       "</table>\n",
       "</div>"
      ],
      "text/plain": [
       "                      rouge1    rouge2    rougeL  rougeLsum\n",
       "Finetuned Model     0.544618  0.324723  0.409241   0.410528\n",
       "Llama-1B-Instruct   0.501850  0.274578  0.367534   0.371002\n",
       "Qwen-0.5B-Instruct  0.404482  0.212115  0.293828   0.296098\n",
       "Qwen-3B-Instruct    0.499342  0.254859  0.351673   0.352539"
      ]
     },
     "execution_count": 27,
     "metadata": {},
     "output_type": "execute_result"
    }
   ],
   "source": [
    "pd.DataFrame(checkpoint_rouge_scores).T"
   ]
  },
  {
   "cell_type": "code",
   "execution_count": 28,
   "metadata": {},
   "outputs": [
    {
     "name": "stderr",
     "output_type": "stream",
     "text": [
      "Computing BERT-SCORE per checkpoint: 100%|██████████| 4/4 [01:03<00:00, 15.87s/it]\n"
     ]
    }
   ],
   "source": [
    "checkpoint_groups = df.groupby(\"model_name\")\n",
    "bertscore = evaluate.load(\"bertscore\")\n",
    "\n",
    "# Store results\n",
    "checkpoint_bert_scores = {}\n",
    "\n",
    "# Iterate over each checkpoint with tqdm\n",
    "for checkpoint, group in tqdm(checkpoint_groups, desc=\"Computing BERT-SCORE per checkpoint\"):\n",
    "    predictions = group[\"generated_text\"].tolist()\n",
    "    references = group[\"reference_summary\"].tolist()\n",
    "    \n",
    "    # Compute ROUGE for this checkpoint\n",
    "    scores = bertscore.compute(predictions=predictions, references=references, lang = 'pt',)\n",
    "    \n",
    "    # Store the results\n",
    "    checkpoint_bert_scores[checkpoint] = scores"
   ]
  },
  {
   "cell_type": "code",
   "execution_count": 40,
   "metadata": {},
   "outputs": [
    {
     "data": {
      "text/plain": [
       "{'Finetuned Model': 0.7949225008189679,\n",
       " 'Llama-1B-Instruct': 0.7794663484096527,\n",
       " 'Qwen-0.5B-Instruct': 0.7410071203708649,\n",
       " 'Qwen-3B-Instruct': 0.7859819431900978}"
      ]
     },
     "execution_count": 40,
     "metadata": {},
     "output_type": "execute_result"
    }
   ],
   "source": [
    "{k:np.mean(v['f1']) for k, v in checkpoint_bert_scores.items()}"
   ]
  },
  {
   "cell_type": "code",
   "execution_count": 29,
   "metadata": {},
   "outputs": [],
   "source": [
    "temp = pd.DataFrame(checkpoint_bert_scores)\\\n",
    "    .loc['f1']\\\n",
    "    .to_dict()\n"
   ]
  },
  {
   "cell_type": "code",
   "execution_count": 30,
   "metadata": {},
   "outputs": [
    {
     "data": {
      "text/plain": [
       "<Axes: xlabel='BertScore', ylabel='Proportion'>"
      ]
     },
     "execution_count": 30,
     "metadata": {},
     "output_type": "execute_result"
    },
    {
     "data": {
      "image/png": "[encoded data removed]",
      "text/plain": [
       "<Figure size 800x500 with 1 Axes>"
      ]
     },
     "metadata": {},
     "output_type": "display_data"
    }
   ],
   "source": [
    "data = pd.DataFrame(temp).melt(var_name='Lora Rank', value_name='BertScore')\n",
    "\n",
    "plt.rcParams.update({'font.size': 18})\n",
    "plt.figure(figsize = (8,5))\n",
    "sns.ecdfplot(\n",
    "    data,\n",
    "    hue = 'Lora Rank',\n",
    "    x = 'BertScore',\n",
    "    # palette='crest'\n",
    ")"
   ]
  },
  {
   "cell_type": "code",
   "execution_count": 46,
   "metadata": {},
   "outputs": [
    {
     "data": {
      "text/html": [
       "<div>\n",
       "<style scoped>\n",
       "    .dataframe tbody tr th:only-of-type {\n",
       "        vertical-align: middle;\n",
       "    }\n",
       "\n",
       "    .dataframe tbody tr th {\n",
       "        vertical-align: top;\n",
       "    }\n",
       "\n",
       "    .dataframe thead th {\n",
       "        text-align: right;\n",
       "    }\n",
       "</style>\n",
       "<table border=\"1\" class=\"dataframe\">\n",
       "  <thead>\n",
       "    <tr style=\"text-align: right;\">\n",
       "      <th></th>\n",
       "      <th>id</th>\n",
       "      <th>generated_text</th>\n",
       "      <th>model_name</th>\n",
       "      <th>reference_summary</th>\n",
       "      <th>reference_length</th>\n",
       "      <th>generated_length</th>\n",
       "      <th>language</th>\n",
       "    </tr>\n",
       "  </thead>\n",
       "  <tbody>\n",
       "    <tr>\n",
       "      <th>0</th>\n",
       "      <td>57237</td>\n",
       "      <td>A Los Angeles Lakers é uma equipe de basqueteb...</td>\n",
       "      <td>Qwen-0.5B-Instruct</td>\n",
       "      <td>O Los Angeles Lakers é um time de basquetebol ...</td>\n",
       "      <td>95</td>\n",
       "      <td>333</td>\n",
       "      <td>pt</td>\n",
       "    </tr>\n",
       "    <tr>\n",
       "      <th>1</th>\n",
       "      <td>10306</td>\n",
       "      <td>O elétron é uma partícula subatômica com símbo...</td>\n",
       "      <td>Qwen-0.5B-Instruct</td>\n",
       "      <td>O elétron é uma partícula subatômica com carga...</td>\n",
       "      <td>74</td>\n",
       "      <td>250</td>\n",
       "      <td>pt</td>\n",
       "    </tr>\n",
       "    <tr>\n",
       "      <th>2</th>\n",
       "      <td>115343</td>\n",
       "      <td>Aqui está um resumo do texto:\\n\\nO Athlon é um...</td>\n",
       "      <td>Qwen-0.5B-Instruct</td>\n",
       "      <td>O Athlon é uma série de processadores da plata...</td>\n",
       "      <td>101</td>\n",
       "      <td>122</td>\n",
       "      <td>pt</td>\n",
       "    </tr>\n",
       "    <tr>\n",
       "      <th>3</th>\n",
       "      <td>939</td>\n",
       "      <td>A Guiné-Bissau é uma região do continente afri...</td>\n",
       "      <td>Qwen-0.5B-Instruct</td>\n",
       "      <td>A Guiné-Bissau é um país da África Ocidental c...</td>\n",
       "      <td>94</td>\n",
       "      <td>170</td>\n",
       "      <td>pt</td>\n",
       "    </tr>\n",
       "    <tr>\n",
       "      <th>4</th>\n",
       "      <td>8695</td>\n",
       "      <td>O africâner é uma língua germânica do ramo ind...</td>\n",
       "      <td>Qwen-0.5B-Instruct</td>\n",
       "      <td>O africâner, também conhecido como afrikaans, ...</td>\n",
       "      <td>92</td>\n",
       "      <td>77</td>\n",
       "      <td>pt</td>\n",
       "    </tr>\n",
       "    <tr>\n",
       "      <th>...</th>\n",
       "      <td>...</td>\n",
       "      <td>...</td>\n",
       "      <td>...</td>\n",
       "      <td>...</td>\n",
       "      <td>...</td>\n",
       "      <td>...</td>\n",
       "      <td>...</td>\n",
       "    </tr>\n",
       "    <tr>\n",
       "      <th>3995</th>\n",
       "      <td>2197537</td>\n",
       "      <td>Luis Alberto Suárez é um futebolista uruguaio ...</td>\n",
       "      <td>Finetuned Model</td>\n",
       "      <td>O texto lista quatro pessoas com o nome Luis S...</td>\n",
       "      <td>58</td>\n",
       "      <td>69</td>\n",
       "      <td>pt</td>\n",
       "    </tr>\n",
       "    <tr>\n",
       "      <th>3996</th>\n",
       "      <td>97695</td>\n",
       "      <td>Fontvieille é um bairro do Mónaco, localizado ...</td>\n",
       "      <td>Finetuned Model</td>\n",
       "      <td>Fontvieille é um bairro do Mónaco localizado e...</td>\n",
       "      <td>72</td>\n",
       "      <td>56</td>\n",
       "      <td>pt</td>\n",
       "    </tr>\n",
       "    <tr>\n",
       "      <th>3997</th>\n",
       "      <td>87314</td>\n",
       "      <td>Sabbia é uma comuna italiana da região do Piem...</td>\n",
       "      <td>Finetuned Model</td>\n",
       "      <td>Sabbia é uma comuna italiana localizada na reg...</td>\n",
       "      <td>61</td>\n",
       "      <td>88</td>\n",
       "      <td>pt</td>\n",
       "    </tr>\n",
       "    <tr>\n",
       "      <th>3998</th>\n",
       "      <td>10830</td>\n",
       "      <td>O texto apresenta eventos históricos, incluind...</td>\n",
       "      <td>Finetuned Model</td>\n",
       "      <td>Infelizmente, não há texto disponível para ger...</td>\n",
       "      <td>37</td>\n",
       "      <td>71</td>\n",
       "      <td>pt</td>\n",
       "    </tr>\n",
       "    <tr>\n",
       "      <th>3999</th>\n",
       "      <td>10894</td>\n",
       "      <td>O texto apresenta eventos históricos, incluind...</td>\n",
       "      <td>Finetuned Model</td>\n",
       "      <td>Infelizmente, não há texto disponível para ger...</td>\n",
       "      <td>37</td>\n",
       "      <td>82</td>\n",
       "      <td>pt</td>\n",
       "    </tr>\n",
       "  </tbody>\n",
       "</table>\n",
       "<p>4000 rows × 7 columns</p>\n",
       "</div>"
      ],
      "text/plain": [
       "           id                                     generated_text  \\\n",
       "0       57237  A Los Angeles Lakers é uma equipe de basqueteb...   \n",
       "1       10306  O elétron é uma partícula subatômica com símbo...   \n",
       "2      115343  Aqui está um resumo do texto:\\n\\nO Athlon é um...   \n",
       "3         939  A Guiné-Bissau é uma região do continente afri...   \n",
       "4        8695  O africâner é uma língua germânica do ramo ind...   \n",
       "...       ...                                                ...   \n",
       "3995  2197537  Luis Alberto Suárez é um futebolista uruguaio ...   \n",
       "3996    97695  Fontvieille é um bairro do Mónaco, localizado ...   \n",
       "3997    87314  Sabbia é uma comuna italiana da região do Piem...   \n",
       "3998    10830  O texto apresenta eventos históricos, incluind...   \n",
       "3999    10894  O texto apresenta eventos históricos, incluind...   \n",
       "\n",
       "              model_name                                  reference_summary  \\\n",
       "0     Qwen-0.5B-Instruct  O Los Angeles Lakers é um time de basquetebol ...   \n",
       "1     Qwen-0.5B-Instruct  O elétron é uma partícula subatômica com carga...   \n",
       "2     Qwen-0.5B-Instruct  O Athlon é uma série de processadores da plata...   \n",
       "3     Qwen-0.5B-Instruct  A Guiné-Bissau é um país da África Ocidental c...   \n",
       "4     Qwen-0.5B-Instruct  O africâner, também conhecido como afrikaans, ...   \n",
       "...                  ...                                                ...   \n",
       "3995     Finetuned Model  O texto lista quatro pessoas com o nome Luis S...   \n",
       "3996     Finetuned Model  Fontvieille é um bairro do Mónaco localizado e...   \n",
       "3997     Finetuned Model  Sabbia é uma comuna italiana localizada na reg...   \n",
       "3998     Finetuned Model  Infelizmente, não há texto disponível para ger...   \n",
       "3999     Finetuned Model  Infelizmente, não há texto disponível para ger...   \n",
       "\n",
       "      reference_length  generated_length language  \n",
       "0                   95               333       pt  \n",
       "1                   74               250       pt  \n",
       "2                  101               122       pt  \n",
       "3                   94               170       pt  \n",
       "4                   92                77       pt  \n",
       "...                ...               ...      ...  \n",
       "3995                58                69       pt  \n",
       "3996                72                56       pt  \n",
       "3997                61                88       pt  \n",
       "3998                37                71       pt  \n",
       "3999                37                82       pt  \n",
       "\n",
       "[4000 rows x 7 columns]"
      ]
     },
     "execution_count": 46,
     "metadata": {},
     "output_type": "execute_result"
    }
   ],
   "source": [
    "df"
   ]
  },
  {
   "cell_type": "markdown",
   "metadata": {},
   "source": [
    "## Stratified results\n",
    "\n",
    "Check how the context length of the original text affect the output"
   ]
  },
  {
   "cell_type": "code",
   "execution_count": 31,
   "metadata": {},
   "outputs": [],
   "source": [
    "df_all = pd.merge(\n",
    "    df,\n",
    "    base_data[['id','num_tokens']],\n",
    "    on = 'id',\n",
    "    how = 'left'\n",
    ")"
   ]
  },
  {
   "cell_type": "code",
   "execution_count": 32,
   "metadata": {},
   "outputs": [],
   "source": [
    "df_all['num_tokens_bin'] = pd.cut(df_all['num_tokens'],  np.linspace(0, 4000, 9))"
   ]
  },
  {
   "cell_type": "code",
   "execution_count": 33,
   "metadata": {},
   "outputs": [
    {
     "name": "stderr",
     "output_type": "stream",
     "text": [
      "/tmp/ipykernel_1477822/1115848357.py:1: FutureWarning: The default value of numeric_only in DataFrameGroupBy.mean is deprecated. In a future version, numeric_only will default to False. Either specify numeric_only or select only columns which should be valid for the function.\n",
      "  df_all.groupby([\"num_tokens_bin\", \"model_name\"]).mean()\n"
     ]
    },
    {
     "data": {
      "text/html": [
       "<div>\n",
       "<style scoped>\n",
       "    .dataframe tbody tr th:only-of-type {\n",
       "        vertical-align: middle;\n",
       "    }\n",
       "\n",
       "    .dataframe tbody tr th {\n",
       "        vertical-align: top;\n",
       "    }\n",
       "\n",
       "    .dataframe thead th {\n",
       "        text-align: right;\n",
       "    }\n",
       "</style>\n",
       "<table border=\"1\" class=\"dataframe\">\n",
       "  <thead>\n",
       "    <tr style=\"text-align: right;\">\n",
       "      <th></th>\n",
       "      <th></th>\n",
       "      <th>id</th>\n",
       "      <th>reference_length</th>\n",
       "      <th>generated_length</th>\n",
       "      <th>num_tokens</th>\n",
       "    </tr>\n",
       "    <tr>\n",
       "      <th>num_tokens_bin</th>\n",
       "      <th>model_name</th>\n",
       "      <th></th>\n",
       "      <th></th>\n",
       "      <th></th>\n",
       "      <th></th>\n",
       "    </tr>\n",
       "  </thead>\n",
       "  <tbody>\n",
       "    <tr>\n",
       "      <th rowspan=\"4\" valign=\"top\">(0.0, 500.0]</th>\n",
       "      <th>Finetuned Model</th>\n",
       "      <td>1.591538e+06</td>\n",
       "      <td>82.209302</td>\n",
       "      <td>89.627907</td>\n",
       "      <td>353.104651</td>\n",
       "    </tr>\n",
       "    <tr>\n",
       "      <th>Llama-1B-Instruct</th>\n",
       "      <td>1.591538e+06</td>\n",
       "      <td>82.209302</td>\n",
       "      <td>72.813953</td>\n",
       "      <td>353.104651</td>\n",
       "    </tr>\n",
       "    <tr>\n",
       "      <th>Qwen-0.5B-Instruct</th>\n",
       "      <td>1.591538e+06</td>\n",
       "      <td>82.209302</td>\n",
       "      <td>128.616279</td>\n",
       "      <td>353.104651</td>\n",
       "    </tr>\n",
       "    <tr>\n",
       "      <th>Qwen-3B-Instruct</th>\n",
       "      <td>1.591538e+06</td>\n",
       "      <td>82.209302</td>\n",
       "      <td>55.348837</td>\n",
       "      <td>353.104651</td>\n",
       "    </tr>\n",
       "    <tr>\n",
       "      <th rowspan=\"4\" valign=\"top\">(500.0, 1000.0]</th>\n",
       "      <th>Finetuned Model</th>\n",
       "      <td>1.599240e+06</td>\n",
       "      <td>86.986547</td>\n",
       "      <td>95.094170</td>\n",
       "      <td>751.336323</td>\n",
       "    </tr>\n",
       "    <tr>\n",
       "      <th>Llama-1B-Instruct</th>\n",
       "      <td>1.599240e+06</td>\n",
       "      <td>86.986547</td>\n",
       "      <td>78.439462</td>\n",
       "      <td>751.336323</td>\n",
       "    </tr>\n",
       "    <tr>\n",
       "      <th>Qwen-0.5B-Instruct</th>\n",
       "      <td>1.599240e+06</td>\n",
       "      <td>86.986547</td>\n",
       "      <td>128.919283</td>\n",
       "      <td>751.336323</td>\n",
       "    </tr>\n",
       "    <tr>\n",
       "      <th>Qwen-3B-Instruct</th>\n",
       "      <td>1.599240e+06</td>\n",
       "      <td>86.986547</td>\n",
       "      <td>68.331839</td>\n",
       "      <td>751.336323</td>\n",
       "    </tr>\n",
       "    <tr>\n",
       "      <th rowspan=\"4\" valign=\"top\">(1000.0, 1500.0]</th>\n",
       "      <th>Finetuned Model</th>\n",
       "      <td>1.428368e+06</td>\n",
       "      <td>88.815385</td>\n",
       "      <td>98.143590</td>\n",
       "      <td>1246.420513</td>\n",
       "    </tr>\n",
       "    <tr>\n",
       "      <th>Llama-1B-Instruct</th>\n",
       "      <td>1.428368e+06</td>\n",
       "      <td>88.815385</td>\n",
       "      <td>80.010256</td>\n",
       "      <td>1246.420513</td>\n",
       "    </tr>\n",
       "    <tr>\n",
       "      <th>Qwen-0.5B-Instruct</th>\n",
       "      <td>1.428368e+06</td>\n",
       "      <td>88.815385</td>\n",
       "      <td>149.194872</td>\n",
       "      <td>1246.420513</td>\n",
       "    </tr>\n",
       "    <tr>\n",
       "      <th>Qwen-3B-Instruct</th>\n",
       "      <td>1.428368e+06</td>\n",
       "      <td>88.815385</td>\n",
       "      <td>78.441026</td>\n",
       "      <td>1246.420513</td>\n",
       "    </tr>\n",
       "    <tr>\n",
       "      <th rowspan=\"4\" valign=\"top\">(1500.0, 2000.0]</th>\n",
       "      <th>Finetuned Model</th>\n",
       "      <td>9.947756e+05</td>\n",
       "      <td>88.664557</td>\n",
       "      <td>99.594937</td>\n",
       "      <td>1753.550633</td>\n",
       "    </tr>\n",
       "    <tr>\n",
       "      <th>Llama-1B-Instruct</th>\n",
       "      <td>9.947756e+05</td>\n",
       "      <td>88.664557</td>\n",
       "      <td>77.392405</td>\n",
       "      <td>1753.550633</td>\n",
       "    </tr>\n",
       "    <tr>\n",
       "      <th>Qwen-0.5B-Instruct</th>\n",
       "      <td>9.947756e+05</td>\n",
       "      <td>88.664557</td>\n",
       "      <td>166.816456</td>\n",
       "      <td>1753.550633</td>\n",
       "    </tr>\n",
       "    <tr>\n",
       "      <th>Qwen-3B-Instruct</th>\n",
       "      <td>9.947756e+05</td>\n",
       "      <td>88.664557</td>\n",
       "      <td>81.392405</td>\n",
       "      <td>1753.550633</td>\n",
       "    </tr>\n",
       "    <tr>\n",
       "      <th rowspan=\"4\" valign=\"top\">(2000.0, 2500.0]</th>\n",
       "      <th>Finetuned Model</th>\n",
       "      <td>1.342016e+06</td>\n",
       "      <td>89.853448</td>\n",
       "      <td>99.793103</td>\n",
       "      <td>2242.008621</td>\n",
       "    </tr>\n",
       "    <tr>\n",
       "      <th>Llama-1B-Instruct</th>\n",
       "      <td>1.342016e+06</td>\n",
       "      <td>89.853448</td>\n",
       "      <td>79.422414</td>\n",
       "      <td>2242.008621</td>\n",
       "    </tr>\n",
       "    <tr>\n",
       "      <th>Qwen-0.5B-Instruct</th>\n",
       "      <td>1.342016e+06</td>\n",
       "      <td>89.853448</td>\n",
       "      <td>155.706897</td>\n",
       "      <td>2242.008621</td>\n",
       "    </tr>\n",
       "    <tr>\n",
       "      <th>Qwen-3B-Instruct</th>\n",
       "      <td>1.342016e+06</td>\n",
       "      <td>89.853448</td>\n",
       "      <td>83.551724</td>\n",
       "      <td>2242.008621</td>\n",
       "    </tr>\n",
       "    <tr>\n",
       "      <th rowspan=\"4\" valign=\"top\">(2500.0, 3000.0]</th>\n",
       "      <th>Finetuned Model</th>\n",
       "      <td>8.626769e+05</td>\n",
       "      <td>91.549451</td>\n",
       "      <td>97.912088</td>\n",
       "      <td>2728.549451</td>\n",
       "    </tr>\n",
       "    <tr>\n",
       "      <th>Llama-1B-Instruct</th>\n",
       "      <td>8.626769e+05</td>\n",
       "      <td>91.549451</td>\n",
       "      <td>77.714286</td>\n",
       "      <td>2728.549451</td>\n",
       "    </tr>\n",
       "    <tr>\n",
       "      <th>Qwen-0.5B-Instruct</th>\n",
       "      <td>8.626769e+05</td>\n",
       "      <td>91.549451</td>\n",
       "      <td>171.197802</td>\n",
       "      <td>2728.549451</td>\n",
       "    </tr>\n",
       "    <tr>\n",
       "      <th>Qwen-3B-Instruct</th>\n",
       "      <td>8.626769e+05</td>\n",
       "      <td>91.549451</td>\n",
       "      <td>81.791209</td>\n",
       "      <td>2728.549451</td>\n",
       "    </tr>\n",
       "    <tr>\n",
       "      <th rowspan=\"4\" valign=\"top\">(3000.0, 3500.0]</th>\n",
       "      <th>Finetuned Model</th>\n",
       "      <td>8.085520e+05</td>\n",
       "      <td>93.804598</td>\n",
       "      <td>96.333333</td>\n",
       "      <td>3226.816092</td>\n",
       "    </tr>\n",
       "    <tr>\n",
       "      <th>Llama-1B-Instruct</th>\n",
       "      <td>8.085520e+05</td>\n",
       "      <td>93.804598</td>\n",
       "      <td>87.988506</td>\n",
       "      <td>3226.816092</td>\n",
       "    </tr>\n",
       "    <tr>\n",
       "      <th>Qwen-0.5B-Instruct</th>\n",
       "      <td>8.085520e+05</td>\n",
       "      <td>93.804598</td>\n",
       "      <td>177.597701</td>\n",
       "      <td>3226.816092</td>\n",
       "    </tr>\n",
       "    <tr>\n",
       "      <th>Qwen-3B-Instruct</th>\n",
       "      <td>8.085520e+05</td>\n",
       "      <td>93.804598</td>\n",
       "      <td>81.908046</td>\n",
       "      <td>3226.816092</td>\n",
       "    </tr>\n",
       "    <tr>\n",
       "      <th rowspan=\"4\" valign=\"top\">(3500.0, 4000.0]</th>\n",
       "      <th>Finetuned Model</th>\n",
       "      <td>8.206502e+05</td>\n",
       "      <td>96.318182</td>\n",
       "      <td>100.840909</td>\n",
       "      <td>3735.022727</td>\n",
       "    </tr>\n",
       "    <tr>\n",
       "      <th>Llama-1B-Instruct</th>\n",
       "      <td>8.206502e+05</td>\n",
       "      <td>96.318182</td>\n",
       "      <td>86.340909</td>\n",
       "      <td>3735.022727</td>\n",
       "    </tr>\n",
       "    <tr>\n",
       "      <th>Qwen-0.5B-Instruct</th>\n",
       "      <td>8.206502e+05</td>\n",
       "      <td>96.318182</td>\n",
       "      <td>185.181818</td>\n",
       "      <td>3735.022727</td>\n",
       "    </tr>\n",
       "    <tr>\n",
       "      <th>Qwen-3B-Instruct</th>\n",
       "      <td>8.206502e+05</td>\n",
       "      <td>96.318182</td>\n",
       "      <td>80.772727</td>\n",
       "      <td>3735.022727</td>\n",
       "    </tr>\n",
       "  </tbody>\n",
       "</table>\n",
       "</div>"
      ],
      "text/plain": [
       "                                               id  reference_length  \\\n",
       "num_tokens_bin   model_name                                           \n",
       "(0.0, 500.0]     Finetuned Model     1.591538e+06         82.209302   \n",
       "                 Llama-1B-Instruct   1.591538e+06         82.209302   \n",
       "                 Qwen-0.5B-Instruct  1.591538e+06         82.209302   \n",
       "                 Qwen-3B-Instruct    1.591538e+06         82.209302   \n",
       "(500.0, 1000.0]  Finetuned Model     1.599240e+06         86.986547   \n",
       "                 Llama-1B-Instruct   1.599240e+06         86.986547   \n",
       "                 Qwen-0.5B-Instruct  1.599240e+06         86.986547   \n",
       "                 Qwen-3B-Instruct    1.599240e+06         86.986547   \n",
       "(1000.0, 1500.0] Finetuned Model     1.428368e+06         88.815385   \n",
       "                 Llama-1B-Instruct   1.428368e+06         88.815385   \n",
       "                 Qwen-0.5B-Instruct  1.428368e+06         88.815385   \n",
       "                 Qwen-3B-Instruct    1.428368e+06         88.815385   \n",
       "(1500.0, 2000.0] Finetuned Model     9.947756e+05         88.664557   \n",
       "                 Llama-1B-Instruct   9.947756e+05         88.664557   \n",
       "                 Qwen-0.5B-Instruct  9.947756e+05         88.664557   \n",
       "                 Qwen-3B-Instruct    9.947756e+05         88.664557   \n",
       "(2000.0, 2500.0] Finetuned Model     1.342016e+06         89.853448   \n",
       "                 Llama-1B-Instruct   1.342016e+06         89.853448   \n",
       "                 Qwen-0.5B-Instruct  1.342016e+06         89.853448   \n",
       "                 Qwen-3B-Instruct    1.342016e+06         89.853448   \n",
       "(2500.0, 3000.0] Finetuned Model     8.626769e+05         91.549451   \n",
       "                 Llama-1B-Instruct   8.626769e+05         91.549451   \n",
       "                 Qwen-0.5B-Instruct  8.626769e+05         91.549451   \n",
       "                 Qwen-3B-Instruct    8.626769e+05         91.549451   \n",
       "(3000.0, 3500.0] Finetuned Model     8.085520e+05         93.804598   \n",
       "                 Llama-1B-Instruct   8.085520e+05         93.804598   \n",
       "                 Qwen-0.5B-Instruct  8.085520e+05         93.804598   \n",
       "                 Qwen-3B-Instruct    8.085520e+05         93.804598   \n",
       "(3500.0, 4000.0] Finetuned Model     8.206502e+05         96.318182   \n",
       "                 Llama-1B-Instruct   8.206502e+05         96.318182   \n",
       "                 Qwen-0.5B-Instruct  8.206502e+05         96.318182   \n",
       "                 Qwen-3B-Instruct    8.206502e+05         96.318182   \n",
       "\n",
       "                                     generated_length   num_tokens  \n",
       "num_tokens_bin   model_name                                         \n",
       "(0.0, 500.0]     Finetuned Model            89.627907   353.104651  \n",
       "                 Llama-1B-Instruct          72.813953   353.104651  \n",
       "                 Qwen-0.5B-Instruct        128.616279   353.104651  \n",
       "                 Qwen-3B-Instruct           55.348837   353.104651  \n",
       "(500.0, 1000.0]  Finetuned Model            95.094170   751.336323  \n",
       "                 Llama-1B-Instruct          78.439462   751.336323  \n",
       "                 Qwen-0.5B-Instruct        128.919283   751.336323  \n",
       "                 Qwen-3B-Instruct           68.331839   751.336323  \n",
       "(1000.0, 1500.0] Finetuned Model            98.143590  1246.420513  \n",
       "                 Llama-1B-Instruct          80.010256  1246.420513  \n",
       "                 Qwen-0.5B-Instruct        149.194872  1246.420513  \n",
       "                 Qwen-3B-Instruct           78.441026  1246.420513  \n",
       "(1500.0, 2000.0] Finetuned Model            99.594937  1753.550633  \n",
       "                 Llama-1B-Instruct          77.392405  1753.550633  \n",
       "                 Qwen-0.5B-Instruct        166.816456  1753.550633  \n",
       "                 Qwen-3B-Instruct           81.392405  1753.550633  \n",
       "(2000.0, 2500.0] Finetuned Model            99.793103  2242.008621  \n",
       "                 Llama-1B-Instruct          79.422414  2242.008621  \n",
       "                 Qwen-0.5B-Instruct        155.706897  2242.008621  \n",
       "                 Qwen-3B-Instruct           83.551724  2242.008621  \n",
       "(2500.0, 3000.0] Finetuned Model            97.912088  2728.549451  \n",
       "                 Llama-1B-Instruct          77.714286  2728.549451  \n",
       "                 Qwen-0.5B-Instruct        171.197802  2728.549451  \n",
       "                 Qwen-3B-Instruct           81.791209  2728.549451  \n",
       "(3000.0, 3500.0] Finetuned Model            96.333333  3226.816092  \n",
       "                 Llama-1B-Instruct          87.988506  3226.816092  \n",
       "                 Qwen-0.5B-Instruct        177.597701  3226.816092  \n",
       "                 Qwen-3B-Instruct           81.908046  3226.816092  \n",
       "(3500.0, 4000.0] Finetuned Model           100.840909  3735.022727  \n",
       "                 Llama-1B-Instruct          86.340909  3735.022727  \n",
       "                 Qwen-0.5B-Instruct        185.181818  3735.022727  \n",
       "                 Qwen-3B-Instruct           80.772727  3735.022727  "
      ]
     },
     "execution_count": 33,
     "metadata": {},
     "output_type": "execute_result"
    }
   ],
   "source": [
    "df_all.groupby([\"num_tokens_bin\", \"model_name\"]).mean()"
   ]
  },
  {
   "cell_type": "code",
   "execution_count": 34,
   "metadata": {},
   "outputs": [
    {
     "name": "stderr",
     "output_type": "stream",
     "text": [
      "/tmp/ipykernel_1477822/3942624449.py:3: FutureWarning: \n",
      "\n",
      "The `ci` parameter is deprecated. Use `errorbar=None` for the same effect.\n",
      "\n",
      "  sns.barplot(\n"
     ]
    },
    {
     "data": {
      "image/png": "[encoded data removed]",
      "text/plain": [
       "<Figure size 2200x1000 with 1 Axes>"
      ]
     },
     "metadata": {},
     "output_type": "display_data"
    }
   ],
   "source": [
    "plt.rcParams.update({'font.size': 18})\n",
    "plt.figure(figsize = (22,10))\n",
    "sns.barplot(\n",
    "    df_all,\n",
    "    x = 'num_tokens_bin',\n",
    "    y = 'generated_length',\n",
    "    hue = 'model_name',\n",
    "    ci = None\n",
    ")\n",
    "\n",
    "plt.hlines(100, -0.5, 7.5, colors= 'red', linestyles='dashed', linewidth = 2)\n",
    "plt.xlabel(\"Number of tokens on base text\")\n",
    "plt.ylabel(\"Number of generated words\")\n",
    "plt.grid()"
   ]
  },
  {
   "cell_type": "code",
   "execution_count": 89,
   "metadata": {},
   "outputs": [
    {
     "name": "stderr",
     "output_type": "stream",
     "text": [
      "Computing BERT-SCORE per checkpoint: 100%|██████████| 3/3 [00:55<00:00, 18.37s/it]\n"
     ]
    }
   ],
   "source": [
    "checkpoint_groups = df_all.groupby(\"model_name\")\n",
    "bertscore = evaluate.load(\"bertscore\")\n",
    "\n",
    "# Store results\n",
    "checkpoint_bert_scores = {}\n",
    "\n",
    "# Iterate over each checkpoint with tqdm\n",
    "for checkpoint, group in tqdm(checkpoint_groups, desc=\"Computing BERT-SCORE per checkpoint\"):\n",
    "    predictions = group[\"generated_text\"].tolist()\n",
    "    references = group[\"reference_summary\"].tolist()\n",
    "    \n",
    "    # Compute ROUGE for this checkpoint\n",
    "    scores = bertscore.compute(predictions=predictions, references=references, lang = 'pt',)\n",
    "    \n",
    "    # Store the results\n",
    "    checkpoint_bert_scores[checkpoint] = scores"
   ]
  },
  {
   "cell_type": "code",
   "execution_count": 91,
   "metadata": {},
   "outputs": [],
   "source": [
    "temp = pd.DataFrame(checkpoint_bert_scores)\\\n",
    "    .loc['f1']\\\n",
    "    .to_dict()\n",
    "\n",
    "data = pd.DataFrame(temp).melt(var_name='Model Name', value_name='BertScore')"
   ]
  },
  {
   "cell_type": "code",
   "execution_count": 92,
   "metadata": {},
   "outputs": [
    {
     "data": {
      "text/html": [
       "<div>\n",
       "<style scoped>\n",
       "    .dataframe tbody tr th:only-of-type {\n",
       "        vertical-align: middle;\n",
       "    }\n",
       "\n",
       "    .dataframe tbody tr th {\n",
       "        vertical-align: top;\n",
       "    }\n",
       "\n",
       "    .dataframe thead th {\n",
       "        text-align: right;\n",
       "    }\n",
       "</style>\n",
       "<table border=\"1\" class=\"dataframe\">\n",
       "  <thead>\n",
       "    <tr style=\"text-align: right;\">\n",
       "      <th></th>\n",
       "      <th>Model Name</th>\n",
       "      <th>BertScore</th>\n",
       "    </tr>\n",
       "  </thead>\n",
       "  <tbody>\n",
       "    <tr>\n",
       "      <th>0</th>\n",
       "      <td>Finetuned Model</td>\n",
       "      <td>0.776098</td>\n",
       "    </tr>\n",
       "    <tr>\n",
       "      <th>1</th>\n",
       "      <td>Finetuned Model</td>\n",
       "      <td>0.881138</td>\n",
       "    </tr>\n",
       "    <tr>\n",
       "      <th>2</th>\n",
       "      <td>Finetuned Model</td>\n",
       "      <td>0.755672</td>\n",
       "    </tr>\n",
       "    <tr>\n",
       "      <th>3</th>\n",
       "      <td>Finetuned Model</td>\n",
       "      <td>0.830631</td>\n",
       "    </tr>\n",
       "    <tr>\n",
       "      <th>4</th>\n",
       "      <td>Finetuned Model</td>\n",
       "      <td>0.816896</td>\n",
       "    </tr>\n",
       "    <tr>\n",
       "      <th>...</th>\n",
       "      <td>...</td>\n",
       "      <td>...</td>\n",
       "    </tr>\n",
       "    <tr>\n",
       "      <th>2995</th>\n",
       "      <td>Qwen-0.5B-Instruct</td>\n",
       "      <td>0.789775</td>\n",
       "    </tr>\n",
       "    <tr>\n",
       "      <th>2996</th>\n",
       "      <td>Qwen-0.5B-Instruct</td>\n",
       "      <td>0.919405</td>\n",
       "    </tr>\n",
       "    <tr>\n",
       "      <th>2997</th>\n",
       "      <td>Qwen-0.5B-Instruct</td>\n",
       "      <td>0.890204</td>\n",
       "    </tr>\n",
       "    <tr>\n",
       "      <th>2998</th>\n",
       "      <td>Qwen-0.5B-Instruct</td>\n",
       "      <td>0.651694</td>\n",
       "    </tr>\n",
       "    <tr>\n",
       "      <th>2999</th>\n",
       "      <td>Qwen-0.5B-Instruct</td>\n",
       "      <td>0.577276</td>\n",
       "    </tr>\n",
       "  </tbody>\n",
       "</table>\n",
       "<p>3000 rows × 2 columns</p>\n",
       "</div>"
      ],
      "text/plain": [
       "              Model Name  BertScore\n",
       "0        Finetuned Model   0.776098\n",
       "1        Finetuned Model   0.881138\n",
       "2        Finetuned Model   0.755672\n",
       "3        Finetuned Model   0.830631\n",
       "4        Finetuned Model   0.816896\n",
       "...                  ...        ...\n",
       "2995  Qwen-0.5B-Instruct   0.789775\n",
       "2996  Qwen-0.5B-Instruct   0.919405\n",
       "2997  Qwen-0.5B-Instruct   0.890204\n",
       "2998  Qwen-0.5B-Instruct   0.651694\n",
       "2999  Qwen-0.5B-Instruct   0.577276\n",
       "\n",
       "[3000 rows x 2 columns]"
      ]
     },
     "execution_count": 92,
     "metadata": {},
     "output_type": "execute_result"
    }
   ],
   "source": [
    "data"
   ]
  }
 ],
 "metadata": {
  "kernelspec": {
   "display_name": "base",
   "language": "python",
   "name": "python3"
  },
  "language_info": {
   "codemirror_mode": {
    "name": "ipython",
    "version": 3
   },
   "file_extension": ".py",
   "mimetype": "text/x-python",
   "name": "python",
   "nbconvert_exporter": "python",
   "pygments_lexer": "ipython3",
   "version": "3.11.3"
  }
 },
 "nbformat": 4,
 "nbformat_minor": 2
}
