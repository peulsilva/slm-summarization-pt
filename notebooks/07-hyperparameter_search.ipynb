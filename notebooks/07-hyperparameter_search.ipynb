{
 "cells": [
  {
   "cell_type": "code",
   "execution_count": 1,
   "metadata": {},
   "outputs": [],
   "source": [
    "%load_ext autoreload\n",
    "%autoreload 2"
   ]
  },
  {
   "cell_type": "code",
   "execution_count": 2,
   "metadata": {},
   "outputs": [
    {
     "name": "stdout",
     "output_type": "stream",
     "text": [
      "Sun Mar  9 18:04:37 2025       \n",
      "+-----------------------------------------------------------------------------------------+\n",
      "| NVIDIA-SMI 570.124.04             Driver Version: 570.124.04     CUDA Version: 12.8     |\n",
      "|-----------------------------------------+------------------------+----------------------+\n",
      "| GPU  Name                 Persistence-M | Bus-Id          Disp.A | Volatile Uncorr. ECC |\n",
      "| Fan  Temp   Perf          Pwr:Usage/Cap |           Memory-Usage | GPU-Util  Compute M. |\n",
      "|                                         |                        |               MIG M. |\n",
      "|=========================================+========================+======================|\n",
      "|   0  NVIDIA RTX A5000               Off |   00000000:01:00.0 Off |                  Off |\n",
      "| 69%   84C    P2            194W /  230W |   17278MiB /  24564MiB |     99%      Default |\n",
      "|                                         |                        |                  N/A |\n",
      "+-----------------------------------------+------------------------+----------------------+\n",
      "                                                                                         \n",
      "+-----------------------------------------------------------------------------------------+\n",
      "| Processes:                                                                              |\n",
      "|  GPU   GI   CI              PID   Type   Process name                        GPU Memory |\n",
      "|        ID   ID                                                               Usage      |\n",
      "|=========================================================================================|\n",
      "|    0   N/A  N/A           40246    C+G   ...da3/envs/cathedral/bin/python        343MiB |\n",
      "|    0   N/A  N/A          121650      C   python                                 1618MiB |\n",
      "|    0   N/A  N/A          965966      G   /usr/libexec/Xorg                        94MiB |\n",
      "|    0   N/A  N/A          965992      G   /usr/bin/gnome-shell                     19MiB |\n",
      "|    0   N/A  N/A         1663104      C   python                                15140MiB |\n",
      "+-----------------------------------------------------------------------------------------+\n"
     ]
    }
   ],
   "source": [
    "!nvidia-smi"
   ]
  },
  {
   "cell_type": "code",
   "execution_count": 3,
   "metadata": {},
   "outputs": [
    {
     "name": "stdout",
     "output_type": "stream",
     "text": [
      "🦥 Unsloth: Will patch your computer to enable 2x faster free finetuning.\n",
      "🦥 Unsloth Zoo will now patch everything to make training faster!\n"
     ]
    }
   ],
   "source": [
    "import os\n",
    "\n",
    "if 'notebooks' in os.getcwd():\n",
    "    os.chdir(\"..\")\n",
    "\n",
    "\n",
    "from datasets import load_dataset, Dataset\n",
    "from huggingface_hub import notebook_login\n",
    "import pandas as pd\n",
    "import numpy as np\n",
    "import matplotlib.pyplot as plt\n",
    "import seaborn as sns\n",
    "import requests\n",
    "import json\n",
    "import time\n",
    "import csv\n",
    "from concurrent.futures import ThreadPoolExecutor, as_completed\n",
    "from tqdm import tqdm\n",
    "from transformers import pipeline, AutoModelForCausalLM, AutoTokenizer, BitsAndBytesConfig\n",
    "import aiohttp\n",
    "import asyncio\n",
    "from tqdm.asyncio import tqdm\n",
    "import torch\n",
    "import scienceplots\n",
    "plt.style.use(['science', 'no-latex'])\n",
    "from IPython.display import clear_output\n",
    "\n",
    "from src.text_utils import trim_text_to_token_limit\n",
    "from unsloth import FastLanguageModel\n",
    "from unsloth.chat_templates import get_chat_template\n",
    "from langdetect import detect\n",
    "\n",
    "from src.train_test_split import stratified_train_test_split\n",
    "\n",
    "import evaluate\n",
    "\n",
    "\n",
    "tqdm.pandas()"
   ]
  },
  {
   "cell_type": "markdown",
   "metadata": {},
   "source": [
    "# Hyperparameter search on lora rank\n",
    "\n",
    "In this notebook, we have already trained models and generated validation summaries for each LoRA rank $ r \\in \\{8, 16, 32, 64\\} $. While higher ranks allow for greater modifications to the model's output, they also increase the risk of overfitting and come with a higher computational cost.  \n",
    "\n",
    "To determine the optimal $r $, we will evaluate performance using metrics such as text length, BERTScore, and ROUGE."
   ]
  },
  {
   "cell_type": "code",
   "execution_count": 4,
   "metadata": {},
   "outputs": [],
   "source": [
    "tokenizer = AutoTokenizer.from_pretrained(\"Qwen/Qwen2.5-0.5B-Instruct\", cache_dir = '/Data')"
   ]
  },
  {
   "cell_type": "code",
   "execution_count": 5,
   "metadata": {},
   "outputs": [],
   "source": [
    "torch.cuda.set_per_process_memory_fraction(0.6, device=0)\n"
   ]
  },
  {
   "cell_type": "code",
   "execution_count": 6,
   "metadata": {},
   "outputs": [],
   "source": [
    "base_data = pd.read_json(\"data/wikipedia_dataset.json\")"
   ]
  },
  {
   "cell_type": "code",
   "execution_count": 7,
   "metadata": {},
   "outputs": [],
   "source": [
    "train_df , temp_df = stratified_train_test_split(base_data, test_size=0.4)\n",
    "val_df , test_df = stratified_train_test_split(temp_df, test_size=0.5)\n",
    "train_idx = train_df.id.tolist()\n",
    "val_idx = val_df.id.tolist()\n",
    "test_idx = test_df.id.tolist()"
   ]
  },
  {
   "cell_type": "markdown",
   "metadata": {},
   "source": [
    "## Loading data"
   ]
  },
  {
   "cell_type": "code",
   "execution_count": 8,
   "metadata": {},
   "outputs": [],
   "source": [
    "base_path = \"data/generated_dataset_test_100_qwen-0.5b-instruct-summary-pt-rank{lora_rank}.pkl\""
   ]
  },
  {
   "cell_type": "code",
   "execution_count": 9,
   "metadata": {},
   "outputs": [],
   "source": [
    "all_df = []\n",
    "raw_model_df = pd.read_pickle(\"data/generated_dataset_Qwen2.5-0.5B-Instruct.pkl\")\n",
    "raw_model_df['lora_rank'] = 0\n",
    "\n",
    "all_df.append(raw_model_df)\n",
    "\n",
    "for lora_rank in [8,16,32,64]:\n",
    "    temp = pd.read_pickle(base_path.format(lora_rank = lora_rank))\n",
    "    \n",
    "    temp['lora_rank'] = lora_rank\n",
    "    all_df.append(temp)\n"
   ]
  },
  {
   "cell_type": "code",
   "execution_count": 10,
   "metadata": {},
   "outputs": [],
   "source": [
    "reference_summary = pd.read_pickle(\"data/generated_dataset_100_Meta-Llama-3.1-8B-Instruct-bnb-4bit_2.pkl\")\\\n",
    "    .rename(columns = {'generated_text': 'reference_summary'})\n",
    "\n",
    "# all_df.append(reference_summary)"
   ]
  },
  {
   "cell_type": "code",
   "execution_count": 11,
   "metadata": {},
   "outputs": [
    {
     "data": {
      "text/html": [
       "<div>\n",
       "<style scoped>\n",
       "    .dataframe tbody tr th:only-of-type {\n",
       "        vertical-align: middle;\n",
       "    }\n",
       "\n",
       "    .dataframe tbody tr th {\n",
       "        vertical-align: top;\n",
       "    }\n",
       "\n",
       "    .dataframe thead th {\n",
       "        text-align: right;\n",
       "    }\n",
       "</style>\n",
       "<table border=\"1\" class=\"dataframe\">\n",
       "  <thead>\n",
       "    <tr style=\"text-align: right;\">\n",
       "      <th></th>\n",
       "      <th>id</th>\n",
       "      <th>generated_text</th>\n",
       "      <th>lora_rank</th>\n",
       "    </tr>\n",
       "  </thead>\n",
       "  <tbody>\n",
       "    <tr>\n",
       "      <th>0</th>\n",
       "      <td>57237</td>\n",
       "      <td>A Los Angeles Lakers é uma equipe de basqueteb...</td>\n",
       "      <td>0</td>\n",
       "    </tr>\n",
       "    <tr>\n",
       "      <th>1</th>\n",
       "      <td>10306</td>\n",
       "      <td>O elétron é uma partícula subatômica com símbo...</td>\n",
       "      <td>0</td>\n",
       "    </tr>\n",
       "    <tr>\n",
       "      <th>2</th>\n",
       "      <td>2118886</td>\n",
       "      <td>A rainha Sofia, filha do rei Constantino I, fo...</td>\n",
       "      <td>0</td>\n",
       "    </tr>\n",
       "    <tr>\n",
       "      <th>3</th>\n",
       "      <td>1695</td>\n",
       "      <td>Aqui está um resumo do texto em português:\\n\\n...</td>\n",
       "      <td>0</td>\n",
       "    </tr>\n",
       "    <tr>\n",
       "      <th>4</th>\n",
       "      <td>5448408</td>\n",
       "      <td>A crise migratória venezuelana é uma emigração...</td>\n",
       "      <td>0</td>\n",
       "    </tr>\n",
       "    <tr>\n",
       "      <th>...</th>\n",
       "      <td>...</td>\n",
       "      <td>...</td>\n",
       "      <td>...</td>\n",
       "    </tr>\n",
       "    <tr>\n",
       "      <th>12995</th>\n",
       "      <td>5968453</td>\n",
       "      <td>O texto não fornece um resumo de no máximo 100...</td>\n",
       "      <td>64</td>\n",
       "    </tr>\n",
       "    <tr>\n",
       "      <th>12996</th>\n",
       "      <td>10830</td>\n",
       "      <td>O texto apresenta eventos históricos, incluind...</td>\n",
       "      <td>64</td>\n",
       "    </tr>\n",
       "    <tr>\n",
       "      <th>12997</th>\n",
       "      <td>10667</td>\n",
       "      <td>O texto apresenta eventos históricos, incluind...</td>\n",
       "      <td>64</td>\n",
       "    </tr>\n",
       "    <tr>\n",
       "      <th>12998</th>\n",
       "      <td>10894</td>\n",
       "      <td>O texto apresenta eventos históricos, incluind...</td>\n",
       "      <td>64</td>\n",
       "    </tr>\n",
       "    <tr>\n",
       "      <th>12999</th>\n",
       "      <td>9346</td>\n",
       "      <td>O texto apresenta eventos históricos, incluind...</td>\n",
       "      <td>64</td>\n",
       "    </tr>\n",
       "  </tbody>\n",
       "</table>\n",
       "<p>13000 rows × 3 columns</p>\n",
       "</div>"
      ],
      "text/plain": [
       "            id                                     generated_text  lora_rank\n",
       "0        57237  A Los Angeles Lakers é uma equipe de basqueteb...          0\n",
       "1        10306  O elétron é uma partícula subatômica com símbo...          0\n",
       "2      2118886  A rainha Sofia, filha do rei Constantino I, fo...          0\n",
       "3         1695  Aqui está um resumo do texto em português:\\n\\n...          0\n",
       "4      5448408  A crise migratória venezuelana é uma emigração...          0\n",
       "...        ...                                                ...        ...\n",
       "12995  5968453  O texto não fornece um resumo de no máximo 100...         64\n",
       "12996    10830  O texto apresenta eventos históricos, incluind...         64\n",
       "12997    10667  O texto apresenta eventos históricos, incluind...         64\n",
       "12998    10894  O texto apresenta eventos históricos, incluind...         64\n",
       "12999     9346  O texto apresenta eventos históricos, incluind...         64\n",
       "\n",
       "[13000 rows x 3 columns]"
      ]
     },
     "execution_count": 11,
     "metadata": {},
     "output_type": "execute_result"
    }
   ],
   "source": [
    "generated_summaries = pd.concat(all_df, ignore_index=True)\n",
    "generated_summaries"
   ]
  },
  {
   "cell_type": "code",
   "execution_count": 12,
   "metadata": {},
   "outputs": [],
   "source": [
    "validation_mask = generated_summaries\\\n",
    "    .id\\\n",
    "    .isin(val_idx)\n",
    "validation_summaries = generated_summaries[validation_mask]"
   ]
  },
  {
   "cell_type": "code",
   "execution_count": 13,
   "metadata": {},
   "outputs": [
    {
     "data": {
      "text/html": [
       "<div>\n",
       "<style scoped>\n",
       "    .dataframe tbody tr th:only-of-type {\n",
       "        vertical-align: middle;\n",
       "    }\n",
       "\n",
       "    .dataframe tbody tr th {\n",
       "        vertical-align: top;\n",
       "    }\n",
       "\n",
       "    .dataframe thead th {\n",
       "        text-align: right;\n",
       "    }\n",
       "</style>\n",
       "<table border=\"1\" class=\"dataframe\">\n",
       "  <thead>\n",
       "    <tr style=\"text-align: right;\">\n",
       "      <th></th>\n",
       "      <th>id</th>\n",
       "      <th>generated_text</th>\n",
       "      <th>lora_rank</th>\n",
       "      <th>reference_summary</th>\n",
       "    </tr>\n",
       "  </thead>\n",
       "  <tbody>\n",
       "    <tr>\n",
       "      <th>0</th>\n",
       "      <td>325829</td>\n",
       "      <td>Por Água Abaixo é um filme de animação britâni...</td>\n",
       "      <td>0</td>\n",
       "      <td>Por Água Abaixo (Flushed Away) é um filme de a...</td>\n",
       "    </tr>\n",
       "    <tr>\n",
       "      <th>1</th>\n",
       "      <td>1354</td>\n",
       "      <td>A Noruega é uma região noruega, situada na Eur...</td>\n",
       "      <td>0</td>\n",
       "      <td>A Noruega é um país nórdico localizado na Euro...</td>\n",
       "    </tr>\n",
       "    <tr>\n",
       "      <th>2</th>\n",
       "      <td>4080563</td>\n",
       "      <td>Jorge de Gales é um aristocrata britânico que ...</td>\n",
       "      <td>0</td>\n",
       "      <td>O príncipe Jorge de Gales é o filho primogênit...</td>\n",
       "    </tr>\n",
       "    <tr>\n",
       "      <th>3</th>\n",
       "      <td>10319</td>\n",
       "      <td>Aqui está um resumo do texto em português:\\n\\n...</td>\n",
       "      <td>0</td>\n",
       "      <td>JPEG é um método de compressão de imagens que ...</td>\n",
       "    </tr>\n",
       "    <tr>\n",
       "      <th>4</th>\n",
       "      <td>1549</td>\n",
       "      <td>Pequim é a capital do país chinês, a maior cid...</td>\n",
       "      <td>0</td>\n",
       "      <td>Pequim é a capital da República Popular da Chi...</td>\n",
       "    </tr>\n",
       "    <tr>\n",
       "      <th>...</th>\n",
       "      <td>...</td>\n",
       "      <td>...</td>\n",
       "      <td>...</td>\n",
       "      <td>...</td>\n",
       "    </tr>\n",
       "    <tr>\n",
       "      <th>4995</th>\n",
       "      <td>5741577</td>\n",
       "      <td>A Federação Líbia de Voleibol (LVF) é uma orga...</td>\n",
       "      <td>64</td>\n",
       "      <td>A Federação Líbia de Voleibol (LVF) é uma orga...</td>\n",
       "    </tr>\n",
       "    <tr>\n",
       "      <th>4996</th>\n",
       "      <td>191038</td>\n",
       "      <td>Aqui está um resumo de no máximo 100 palavras ...</td>\n",
       "      <td>64</td>\n",
       "      <td>O texto não apresenta informações específicas ...</td>\n",
       "    </tr>\n",
       "    <tr>\n",
       "      <th>4997</th>\n",
       "      <td>5968453</td>\n",
       "      <td>O texto não fornece um resumo de no máximo 100...</td>\n",
       "      <td>64</td>\n",
       "      <td>O texto parece ser uma sequência de números. N...</td>\n",
       "    </tr>\n",
       "    <tr>\n",
       "      <th>4998</th>\n",
       "      <td>10667</td>\n",
       "      <td>O texto apresenta eventos históricos, incluind...</td>\n",
       "      <td>64</td>\n",
       "      <td>Infelizmente, não há texto disponível para ger...</td>\n",
       "    </tr>\n",
       "    <tr>\n",
       "      <th>4999</th>\n",
       "      <td>9346</td>\n",
       "      <td>O texto apresenta eventos históricos, incluind...</td>\n",
       "      <td>64</td>\n",
       "      <td>Infelizmente, não há texto disponível para ger...</td>\n",
       "    </tr>\n",
       "  </tbody>\n",
       "</table>\n",
       "<p>5000 rows × 4 columns</p>\n",
       "</div>"
      ],
      "text/plain": [
       "           id                                     generated_text  lora_rank  \\\n",
       "0      325829  Por Água Abaixo é um filme de animação britâni...          0   \n",
       "1        1354  A Noruega é uma região noruega, situada na Eur...          0   \n",
       "2     4080563  Jorge de Gales é um aristocrata britânico que ...          0   \n",
       "3       10319  Aqui está um resumo do texto em português:\\n\\n...          0   \n",
       "4        1549  Pequim é a capital do país chinês, a maior cid...          0   \n",
       "...       ...                                                ...        ...   \n",
       "4995  5741577  A Federação Líbia de Voleibol (LVF) é uma orga...         64   \n",
       "4996   191038  Aqui está um resumo de no máximo 100 palavras ...         64   \n",
       "4997  5968453  O texto não fornece um resumo de no máximo 100...         64   \n",
       "4998    10667  O texto apresenta eventos históricos, incluind...         64   \n",
       "4999     9346  O texto apresenta eventos históricos, incluind...         64   \n",
       "\n",
       "                                      reference_summary  \n",
       "0     Por Água Abaixo (Flushed Away) é um filme de a...  \n",
       "1     A Noruega é um país nórdico localizado na Euro...  \n",
       "2     O príncipe Jorge de Gales é o filho primogênit...  \n",
       "3     JPEG é um método de compressão de imagens que ...  \n",
       "4     Pequim é a capital da República Popular da Chi...  \n",
       "...                                                 ...  \n",
       "4995  A Federação Líbia de Voleibol (LVF) é uma orga...  \n",
       "4996  O texto não apresenta informações específicas ...  \n",
       "4997  O texto parece ser uma sequência de números. N...  \n",
       "4998  Infelizmente, não há texto disponível para ger...  \n",
       "4999  Infelizmente, não há texto disponível para ger...  \n",
       "\n",
       "[5000 rows x 4 columns]"
      ]
     },
     "execution_count": 13,
     "metadata": {},
     "output_type": "execute_result"
    }
   ],
   "source": [
    "df = pd.merge(\n",
    "    validation_summaries,\n",
    "    reference_summary,\n",
    "    on='id',\n",
    "    how = 'left'\n",
    ")\n",
    "df"
   ]
  },
  {
   "cell_type": "markdown",
   "metadata": {},
   "source": [
    "## Sequence length\n",
    "\n",
    "We verify if the summary has ~ 100 words"
   ]
  },
  {
   "cell_type": "code",
   "execution_count": 14,
   "metadata": {},
   "outputs": [
    {
     "name": "stderr",
     "output_type": "stream",
     "text": [
      "100%|██████████| 5000/5000 [00:00<00:00, 125338.54it/s]\n",
      "100%|██████████| 5000/5000 [00:00<00:00, 112816.22it/s]\n"
     ]
    }
   ],
   "source": [
    "df['reference_length'] = df['reference_summary']\\\n",
    "    .progress_apply(lambda x: len(x.split()))\n",
    "df['generated_length'] = df['generated_text']\\\n",
    "    .progress_apply(lambda x: len(x.split()))"
   ]
  },
  {
   "cell_type": "code",
   "execution_count": 15,
   "metadata": {},
   "outputs": [
    {
     "data": {
      "text/plain": [
       "<Axes: xlabel='reference_length', ylabel='Count'>"
      ]
     },
     "execution_count": 15,
     "metadata": {},
     "output_type": "execute_result"
    },
    {
     "data": {
      "image/png": "[encoded data removed]",
      "text/plain": [
       "<Figure size 800x500 with 1 Axes>"
      ]
     },
     "metadata": {},
     "output_type": "display_data"
    }
   ],
   "source": [
    "plt.rcParams.update({'font.size': 18})\n",
    "plt.figure(figsize = (8,5))\n",
    "sns.histplot(\n",
    "    df,\n",
    "    x = 'reference_length',\n",
    ")"
   ]
  },
  {
   "cell_type": "code",
   "execution_count": null,
   "metadata": {},
   "outputs": [
    {
     "data": {
      "text/plain": [
       "Text(0.5, 0, 'Lora Rank')"
      ]
     },
     "execution_count": 24,
     "metadata": {},
     "output_type": "execute_result"
    },
    {
     "data": {
      "image/png": "[encoded data removed]",
      "text/plain": [
       "<Figure size 800x500 with 1 Axes>"
      ]
     },
     "metadata": {},
     "output_type": "display_data"
    }
   ],
   "source": [
    "plt.rcParams.update({'font.size': 18})\n",
    "plt.figure(figsize = (8,5))\n",
    "sns.boxplot(\n",
    "    df,\n",
    "    y = 'generated_length',\n",
    "    x='lora_rank',\n",
    "    # palette= 'viridis_r',\n",
    "    # alpha = 0.6\n",
    ")\n",
    "\n",
    "plt.hlines(100, xmin=-0.5, xmax = 4.5, colors='black', linestyles='dashed', linewidth = 3, label = 'Target')\n",
    "\n",
    "plt.ylabel(\"Number of words\")\n",
    "plt.xlabel(\"Lora Rank\")\n",
    "plt.legend()"
   ]
  },
  {
   "cell_type": "code",
   "execution_count": 31,
   "metadata": {},
   "outputs": [
    {
     "data": {
      "text/plain": [
       "Text(0.5, 0, 'Number of words')"
      ]
     },
     "execution_count": 31,
     "metadata": {},
     "output_type": "execute_result"
    },
    {
     "data": {
      "image/png": "[encoded data removed]",
      "text/plain": [
       "<Figure size 800x500 with 1 Axes>"
      ]
     },
     "metadata": {},
     "output_type": "display_data"
    }
   ],
   "source": [
    "plt.rcParams.update({'font.size': 18})\n",
    "plt.figure(figsize = (8,5))\n",
    "sns.histplot(\n",
    "    df,\n",
    "    x = 'generated_length',\n",
    "    hue='lora_rank',\n",
    "    palette= 'viridis_r',\n",
    "    # alpha = 0.6\n",
    ")\n",
    "\n",
    "plt.xlabel(\"Number of words\")"
   ]
  },
  {
   "cell_type": "code",
   "execution_count": 67,
   "metadata": {},
   "outputs": [
    {
     "data": {
      "text/html": [
       "<div>\n",
       "<style scoped>\n",
       "    .dataframe tbody tr th:only-of-type {\n",
       "        vertical-align: middle;\n",
       "    }\n",
       "\n",
       "    .dataframe tbody tr th {\n",
       "        vertical-align: top;\n",
       "    }\n",
       "\n",
       "    .dataframe thead th {\n",
       "        text-align: right;\n",
       "    }\n",
       "</style>\n",
       "<table border=\"1\" class=\"dataframe\">\n",
       "  <thead>\n",
       "    <tr style=\"text-align: right;\">\n",
       "      <th></th>\n",
       "      <th>count</th>\n",
       "      <th>mean</th>\n",
       "      <th>std</th>\n",
       "      <th>min</th>\n",
       "      <th>25%</th>\n",
       "      <th>50%</th>\n",
       "      <th>75%</th>\n",
       "      <th>max</th>\n",
       "    </tr>\n",
       "    <tr>\n",
       "      <th>lora_rank</th>\n",
       "      <th></th>\n",
       "      <th></th>\n",
       "      <th></th>\n",
       "      <th></th>\n",
       "      <th></th>\n",
       "      <th></th>\n",
       "      <th></th>\n",
       "      <th></th>\n",
       "    </tr>\n",
       "  </thead>\n",
       "  <tbody>\n",
       "    <tr>\n",
       "      <th>0</th>\n",
       "      <td>1000.0</td>\n",
       "      <td>147.066</td>\n",
       "      <td>83.871987</td>\n",
       "      <td>10.0</td>\n",
       "      <td>86.75</td>\n",
       "      <td>114.0</td>\n",
       "      <td>197.25</td>\n",
       "      <td>410.0</td>\n",
       "    </tr>\n",
       "    <tr>\n",
       "      <th>8</th>\n",
       "      <td>1000.0</td>\n",
       "      <td>137.450</td>\n",
       "      <td>72.866529</td>\n",
       "      <td>50.0</td>\n",
       "      <td>92.00</td>\n",
       "      <td>110.0</td>\n",
       "      <td>141.00</td>\n",
       "      <td>401.0</td>\n",
       "    </tr>\n",
       "    <tr>\n",
       "      <th>16</th>\n",
       "      <td>1000.0</td>\n",
       "      <td>105.459</td>\n",
       "      <td>38.573232</td>\n",
       "      <td>30.0</td>\n",
       "      <td>86.00</td>\n",
       "      <td>97.0</td>\n",
       "      <td>112.00</td>\n",
       "      <td>319.0</td>\n",
       "    </tr>\n",
       "    <tr>\n",
       "      <th>32</th>\n",
       "      <td>1000.0</td>\n",
       "      <td>100.440</td>\n",
       "      <td>31.623099</td>\n",
       "      <td>28.0</td>\n",
       "      <td>85.00</td>\n",
       "      <td>95.0</td>\n",
       "      <td>107.00</td>\n",
       "      <td>319.0</td>\n",
       "    </tr>\n",
       "    <tr>\n",
       "      <th>64</th>\n",
       "      <td>1000.0</td>\n",
       "      <td>97.752</td>\n",
       "      <td>29.174538</td>\n",
       "      <td>54.0</td>\n",
       "      <td>85.00</td>\n",
       "      <td>93.0</td>\n",
       "      <td>103.00</td>\n",
       "      <td>367.0</td>\n",
       "    </tr>\n",
       "  </tbody>\n",
       "</table>\n",
       "</div>"
      ],
      "text/plain": [
       "            count     mean        std   min    25%    50%     75%    max\n",
       "lora_rank                                                               \n",
       "0          1000.0  147.066  83.871987  10.0  86.75  114.0  197.25  410.0\n",
       "8          1000.0  137.450  72.866529  50.0  92.00  110.0  141.00  401.0\n",
       "16         1000.0  105.459  38.573232  30.0  86.00   97.0  112.00  319.0\n",
       "32         1000.0  100.440  31.623099  28.0  85.00   95.0  107.00  319.0\n",
       "64         1000.0   97.752  29.174538  54.0  85.00   93.0  103.00  367.0"
      ]
     },
     "execution_count": 67,
     "metadata": {},
     "output_type": "execute_result"
    }
   ],
   "source": [
    "df.groupby(\"lora_rank\")\\\n",
    "    .generated_length\\\n",
    "    .describe()"
   ]
  },
  {
   "cell_type": "markdown",
   "metadata": {},
   "source": [
    "## Language\n",
    "\n",
    "Checking how many texts are not in portuguese"
   ]
  },
  {
   "cell_type": "code",
   "execution_count": 32,
   "metadata": {},
   "outputs": [
    {
     "name": "stderr",
     "output_type": "stream",
     "text": [
      "100%|██████████| 5000/5000 [00:10<00:00, 457.65it/s]\n"
     ]
    }
   ],
   "source": [
    "df['language'] = df['generated_text'].progress_apply(detect)"
   ]
  },
  {
   "cell_type": "code",
   "execution_count": 34,
   "metadata": {},
   "outputs": [
    {
     "name": "stderr",
     "output_type": "stream",
     "text": [
      "100%|██████████| 5/5 [00:00<00:00, 1945.05it/s]\n"
     ]
    },
    {
     "data": {
      "text/plain": [
       "lora_rank\n",
       "0     0.014\n",
       "8     0.004\n",
       "16    0.003\n",
       "32    0.003\n",
       "64    0.005\n",
       "dtype: float64"
      ]
     },
     "execution_count": 34,
     "metadata": {},
     "output_type": "execute_result"
    }
   ],
   "source": [
    "def count_non_portuguese_text(df):\n",
    "    return (df['language'] != 'pt').sum()/len(df)\n",
    "\n",
    "df.groupby(\"lora_rank\")\\\n",
    "    .progress_apply(count_non_portuguese_text)"
   ]
  },
  {
   "cell_type": "code",
   "execution_count": 35,
   "metadata": {},
   "outputs": [],
   "source": [
    "predictions = df[\"generated_text\"].tolist()\n",
    "references = df[\"reference_summary\"].tolist()"
   ]
  },
  {
   "cell_type": "code",
   "execution_count": 36,
   "metadata": {},
   "outputs": [
    {
     "name": "stderr",
     "output_type": "stream",
     "text": [
      "Computing ROUGE per checkpoint: 100%|██████████| 5/5 [00:22<00:00,  4.41s/it]\n"
     ]
    }
   ],
   "source": [
    "checkpoint_groups = df.groupby(\"lora_rank\")\n",
    "rouge = evaluate.load(\"rouge\")\n",
    "# Store results\n",
    "checkpoint_rouge_scores = {}\n",
    "\n",
    "# Iterate over each checkpoint with tqdm\n",
    "for checkpoint, group in tqdm(checkpoint_groups, desc=\"Computing ROUGE per checkpoint\"):\n",
    "    predictions = group[\"generated_text\"].tolist()\n",
    "    references = group[\"reference_summary\"].tolist()\n",
    "    \n",
    "    # Compute ROUGE for this checkpoint\n",
    "    scores = rouge.compute(predictions=predictions, references=references)\n",
    "    \n",
    "    # Store the results\n",
    "    checkpoint_rouge_scores[checkpoint] = scores"
   ]
  },
  {
   "cell_type": "code",
   "execution_count": 37,
   "metadata": {},
   "outputs": [
    {
     "data": {
      "text/html": [
       "<div>\n",
       "<style scoped>\n",
       "    .dataframe tbody tr th:only-of-type {\n",
       "        vertical-align: middle;\n",
       "    }\n",
       "\n",
       "    .dataframe tbody tr th {\n",
       "        vertical-align: top;\n",
       "    }\n",
       "\n",
       "    .dataframe thead th {\n",
       "        text-align: right;\n",
       "    }\n",
       "</style>\n",
       "<table border=\"1\" class=\"dataframe\">\n",
       "  <thead>\n",
       "    <tr style=\"text-align: right;\">\n",
       "      <th></th>\n",
       "      <th>rouge1</th>\n",
       "      <th>rouge2</th>\n",
       "      <th>rougeL</th>\n",
       "      <th>rougeLsum</th>\n",
       "    </tr>\n",
       "  </thead>\n",
       "  <tbody>\n",
       "    <tr>\n",
       "      <th>0</th>\n",
       "      <td>0.405660</td>\n",
       "      <td>0.209729</td>\n",
       "      <td>0.292530</td>\n",
       "      <td>0.294251</td>\n",
       "    </tr>\n",
       "    <tr>\n",
       "      <th>8</th>\n",
       "      <td>0.478445</td>\n",
       "      <td>0.276309</td>\n",
       "      <td>0.359151</td>\n",
       "      <td>0.360555</td>\n",
       "    </tr>\n",
       "    <tr>\n",
       "      <th>16</th>\n",
       "      <td>0.520738</td>\n",
       "      <td>0.303913</td>\n",
       "      <td>0.390486</td>\n",
       "      <td>0.391744</td>\n",
       "    </tr>\n",
       "    <tr>\n",
       "      <th>32</th>\n",
       "      <td>0.534906</td>\n",
       "      <td>0.315144</td>\n",
       "      <td>0.400478</td>\n",
       "      <td>0.401702</td>\n",
       "    </tr>\n",
       "    <tr>\n",
       "      <th>64</th>\n",
       "      <td>0.543013</td>\n",
       "      <td>0.323542</td>\n",
       "      <td>0.409636</td>\n",
       "      <td>0.410853</td>\n",
       "    </tr>\n",
       "  </tbody>\n",
       "</table>\n",
       "</div>"
      ],
      "text/plain": [
       "      rouge1    rouge2    rougeL  rougeLsum\n",
       "0   0.405660  0.209729  0.292530   0.294251\n",
       "8   0.478445  0.276309  0.359151   0.360555\n",
       "16  0.520738  0.303913  0.390486   0.391744\n",
       "32  0.534906  0.315144  0.400478   0.401702\n",
       "64  0.543013  0.323542  0.409636   0.410853"
      ]
     },
     "execution_count": 37,
     "metadata": {},
     "output_type": "execute_result"
    }
   ],
   "source": [
    "pd.DataFrame(checkpoint_rouge_scores).T"
   ]
  },
  {
   "cell_type": "code",
   "execution_count": 38,
   "metadata": {},
   "outputs": [
    {
     "name": "stderr",
     "output_type": "stream",
     "text": [
      "Computing BERT-SCORE per checkpoint: 100%|██████████| 5/5 [00:45<00:00,  9.16s/it]\n"
     ]
    }
   ],
   "source": [
    "checkpoint_groups = df.groupby(\"lora_rank\")\n",
    "bertscore = evaluate.load(\"bertscore\")\n",
    "\n",
    "# Store results\n",
    "checkpoint_bert_scores = {}\n",
    "\n",
    "# Iterate over each checkpoint with tqdm\n",
    "for checkpoint, group in tqdm(checkpoint_groups, desc=\"Computing BERT-SCORE per checkpoint\"):\n",
    "    predictions = group[\"generated_text\"].tolist()\n",
    "    references = group[\"reference_summary\"].tolist()\n",
    "    \n",
    "    # Compute ROUGE for this checkpoint\n",
    "    scores = bertscore.compute(predictions=predictions, references=references, lang = 'pt',)\n",
    "    \n",
    "    # Store the results\n",
    "    checkpoint_bert_scores[checkpoint] = scores"
   ]
  },
  {
   "cell_type": "code",
   "execution_count": 42,
   "metadata": {},
   "outputs": [],
   "source": [
    "temp = pd.DataFrame(checkpoint_bert_scores)\\\n",
    "    .loc['f1']\\\n",
    "    .to_dict()\n"
   ]
  },
  {
   "cell_type": "code",
   "execution_count": 85,
   "metadata": {},
   "outputs": [
    {
     "data": {
      "text/plain": [
       "<Axes: xlabel='BertScore', ylabel='Proportion'>"
      ]
     },
     "execution_count": 85,
     "metadata": {},
     "output_type": "execute_result"
    },
    {
     "data": {
      "image/png": "[encoded data removed]",
      "text/plain": [
       "<Figure size 800x500 with 1 Axes>"
      ]
     },
     "metadata": {},
     "output_type": "display_data"
    }
   ],
   "source": [
    "data = pd.DataFrame(temp).melt(var_name='Lora Rank', value_name='BertScore')\n",
    "\n",
    "plt.rcParams.update({'font.size': 18})\n",
    "plt.figure(figsize = (8,5))\n",
    "sns.ecdfplot(\n",
    "    data,\n",
    "    hue = 'Lora Rank',\n",
    "    x = 'BertScore',\n",
    "    palette='crest'\n",
    ")"
   ]
  },
  {
   "cell_type": "code",
   "execution_count": 51,
   "metadata": {},
   "outputs": [
    {
     "name": "stdout",
     "output_type": "stream",
     "text": [
      "0 0.7414662988781929\n",
      "8 0.7700064035058022\n",
      "16 0.7880402990579605\n",
      "32 0.7920641766488552\n",
      "64 0.7962603651583194\n"
     ]
    }
   ],
   "source": [
    "for k in checkpoint_bert_scores.keys():\n",
    "    print(k, np.mean(checkpoint_bert_scores[k]['f1']))"
   ]
  },
  {
   "cell_type": "code",
   "execution_count": null,
   "metadata": {},
   "outputs": [],
   "source": []
  },
  {
   "cell_type": "code",
   "execution_count": null,
   "metadata": {},
   "outputs": [],
   "source": []
  }
 ],
 "metadata": {
  "kernelspec": {
   "display_name": "base",
   "language": "python",
   "name": "python3"
  },
  "language_info": {
   "codemirror_mode": {
    "name": "ipython",
    "version": 3
   },
   "file_extension": ".py",
   "mimetype": "text/x-python",
   "name": "python",
   "nbconvert_exporter": "python",
   "pygments_lexer": "ipython3",
   "version": "3.11.3"
  }
 },
 "nbformat": 4,
 "nbformat_minor": 2
}
