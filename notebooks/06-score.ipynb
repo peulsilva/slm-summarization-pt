{
 "cells": [
  {
   "cell_type": "code",
   "execution_count": 1,
   "metadata": {},
   "outputs": [],
   "source": [
    "%load_ext autoreload\n",
    "%autoreload 2"
   ]
  },
  {
   "cell_type": "code",
   "execution_count": 2,
   "metadata": {},
   "outputs": [
    {
     "name": "stdout",
     "output_type": "stream",
     "text": [
      "Wed Mar  5 15:24:35 2025       \n",
      "+-----------------------------------------------------------------------------------------+\n",
      "| NVIDIA-SMI 570.124.04             Driver Version: 570.124.04     CUDA Version: 12.8     |\n",
      "|-----------------------------------------+------------------------+----------------------+\n",
      "| GPU  Name                 Persistence-M | Bus-Id          Disp.A | Volatile Uncorr. ECC |\n",
      "| Fan  Temp   Perf          Pwr:Usage/Cap |           Memory-Usage | GPU-Util  Compute M. |\n",
      "|                                         |                        |               MIG M. |\n",
      "|=========================================+========================+======================|\n",
      "|   0  NVIDIA RTX A5000               Off |   00000000:01:00.0 Off |                  Off |\n",
      "| 30%   27C    P8              8W /  230W |     149MiB /  24564MiB |      0%      Default |\n",
      "|                                         |                        |                  N/A |\n",
      "+-----------------------------------------+------------------------+----------------------+\n",
      "                                                                                         \n",
      "+-----------------------------------------------------------------------------------------+\n",
      "| Processes:                                                                              |\n",
      "|  GPU   GI   CI              PID   Type   Process name                        GPU Memory |\n",
      "|        ID   ID                                                               Usage      |\n",
      "|=========================================================================================|\n",
      "|    0   N/A  N/A          262479      G   /usr/libexec/Xorg                        94MiB |\n",
      "|    0   N/A  N/A          262509      G   /usr/bin/gnome-shell                     19MiB |\n",
      "+-----------------------------------------------------------------------------------------+\n"
     ]
    }
   ],
   "source": [
    "!nvidia-smi"
   ]
  },
  {
   "cell_type": "code",
   "execution_count": 3,
   "metadata": {},
   "outputs": [
    {
     "name": "stdout",
     "output_type": "stream",
     "text": [
      "🦥 Unsloth: Will patch your computer to enable 2x faster free finetuning.\n",
      "🦥 Unsloth Zoo will now patch everything to make training faster!\n"
     ]
    }
   ],
   "source": [
    "import os\n",
    "\n",
    "if 'notebooks' in os.getcwd():\n",
    "    os.chdir(\"..\")\n",
    "\n",
    "\n",
    "from datasets import load_dataset, Dataset\n",
    "from huggingface_hub import notebook_login\n",
    "import pandas as pd\n",
    "import numpy as np\n",
    "import matplotlib.pyplot as plt\n",
    "import seaborn as sns\n",
    "import requests\n",
    "import json\n",
    "import time\n",
    "import csv\n",
    "from concurrent.futures import ThreadPoolExecutor, as_completed\n",
    "from tqdm import tqdm\n",
    "from transformers import pipeline, AutoModelForCausalLM, AutoTokenizer, BitsAndBytesConfig\n",
    "import aiohttp\n",
    "import asyncio\n",
    "from tqdm.asyncio import tqdm\n",
    "import torch\n",
    "import scienceplots\n",
    "plt.style.use(['science', 'no-latex'])\n",
    "from IPython.display import clear_output\n",
    "\n",
    "from src.text_utils import trim_text_to_token_limit\n",
    "from unsloth import FastLanguageModel\n",
    "from unsloth.chat_templates import get_chat_template\n",
    "from langdetect import detect\n",
    "\n",
    "import evaluate\n",
    "\n",
    "\n",
    "tqdm.pandas()"
   ]
  },
  {
   "cell_type": "code",
   "execution_count": 4,
   "metadata": {},
   "outputs": [],
   "source": [
    "tokenizer = AutoTokenizer.from_pretrained(\"Qwen/Qwen2.5-0.5B-Instruct\", cache_dir = '/Data')"
   ]
  },
  {
   "cell_type": "code",
   "execution_count": 5,
   "metadata": {},
   "outputs": [],
   "source": [
    "torch.cuda.set_per_process_memory_fraction(0.6, device=0)\n"
   ]
  },
  {
   "cell_type": "code",
   "execution_count": 6,
   "metadata": {},
   "outputs": [],
   "source": [
    "base_data = pd.read_json(\"data/wikipedia_dataset.json\")"
   ]
  },
  {
   "cell_type": "markdown",
   "metadata": {},
   "source": [
    "## Loading data"
   ]
  },
  {
   "cell_type": "code",
   "execution_count": 7,
   "metadata": {},
   "outputs": [],
   "source": [
    "base_path = \"data/generated_dataset_100_qwen-0.5b-instruct-summary-pt-checkpoint{checkpoint_idx}.pkl\""
   ]
  },
  {
   "cell_type": "code",
   "execution_count": 22,
   "metadata": {},
   "outputs": [],
   "source": [
    "all_df = []\n",
    "raw_model_df = pd.read_pickle(\"data/generated_dataset_Qwen2.5-0.5B-Instruct.pkl\")\n",
    "raw_model_df['checkpoint_name'] = \"Raw model\"\n",
    "\n",
    "all_df.append(raw_model_df)\n",
    "\n",
    "for i in range(4):\n",
    "    temp = pd.read_pickle(base_path.format(checkpoint_idx = i))\n",
    "    \n",
    "    if i == 0:\n",
    "        temp = pd.read_pickle(base_path.format(checkpoint_idx = \"0_2\"))\n",
    "    \n",
    "    temp['checkpoint_name'] = f\"Epoch {i}\"\n",
    "    all_df.append(temp)\n"
   ]
  },
  {
   "cell_type": "code",
   "execution_count": 23,
   "metadata": {},
   "outputs": [],
   "source": [
    "reference_summary = pd.read_pickle(\"data/generated_dataset_100_Meta-Llama-3.1-8B-Instruct-bnb-4bit_2.pkl\")\\\n",
    "    .rename(columns = {'generated_text': 'reference_summary'})\n",
    "\n",
    "# all_df.append(reference_summary)"
   ]
  },
  {
   "cell_type": "code",
   "execution_count": 24,
   "metadata": {},
   "outputs": [
    {
     "data": {
      "text/html": [
       "<div>\n",
       "<style scoped>\n",
       "    .dataframe tbody tr th:only-of-type {\n",
       "        vertical-align: middle;\n",
       "    }\n",
       "\n",
       "    .dataframe tbody tr th {\n",
       "        vertical-align: top;\n",
       "    }\n",
       "\n",
       "    .dataframe thead th {\n",
       "        text-align: right;\n",
       "    }\n",
       "</style>\n",
       "<table border=\"1\" class=\"dataframe\">\n",
       "  <thead>\n",
       "    <tr style=\"text-align: right;\">\n",
       "      <th></th>\n",
       "      <th>id</th>\n",
       "      <th>generated_text</th>\n",
       "      <th>checkpoint_name</th>\n",
       "    </tr>\n",
       "  </thead>\n",
       "  <tbody>\n",
       "    <tr>\n",
       "      <th>0</th>\n",
       "      <td>57237</td>\n",
       "      <td>A Los Angeles Lakers é uma equipe de basqueteb...</td>\n",
       "      <td>Raw model</td>\n",
       "    </tr>\n",
       "    <tr>\n",
       "      <th>1</th>\n",
       "      <td>10306</td>\n",
       "      <td>O elétron é uma partícula subatômica com símbo...</td>\n",
       "      <td>Raw model</td>\n",
       "    </tr>\n",
       "    <tr>\n",
       "      <th>2</th>\n",
       "      <td>2118886</td>\n",
       "      <td>A rainha Sofia, filha do rei Constantino I, fo...</td>\n",
       "      <td>Raw model</td>\n",
       "    </tr>\n",
       "    <tr>\n",
       "      <th>3</th>\n",
       "      <td>1695</td>\n",
       "      <td>Aqui está um resumo do texto em português:\\n\\n...</td>\n",
       "      <td>Raw model</td>\n",
       "    </tr>\n",
       "    <tr>\n",
       "      <th>4</th>\n",
       "      <td>5448408</td>\n",
       "      <td>A crise migratória venezuelana é uma emigração...</td>\n",
       "      <td>Raw model</td>\n",
       "    </tr>\n",
       "    <tr>\n",
       "      <th>...</th>\n",
       "      <td>...</td>\n",
       "      <td>...</td>\n",
       "      <td>...</td>\n",
       "    </tr>\n",
       "    <tr>\n",
       "      <th>16995</th>\n",
       "      <td>10831</td>\n",
       "      <td>O texto apresenta eventos históricos, incluind...</td>\n",
       "      <td>Epoch 3</td>\n",
       "    </tr>\n",
       "    <tr>\n",
       "      <th>16996</th>\n",
       "      <td>10889</td>\n",
       "      <td>O texto apresenta eventos históricos, incluind...</td>\n",
       "      <td>Epoch 3</td>\n",
       "    </tr>\n",
       "    <tr>\n",
       "      <th>16997</th>\n",
       "      <td>10892</td>\n",
       "      <td>O texto apresenta eventos históricos, incluind...</td>\n",
       "      <td>Epoch 3</td>\n",
       "    </tr>\n",
       "    <tr>\n",
       "      <th>16998</th>\n",
       "      <td>10883</td>\n",
       "      <td>O texto apresenta eventos históricos, incluind...</td>\n",
       "      <td>Epoch 3</td>\n",
       "    </tr>\n",
       "    <tr>\n",
       "      <th>16999</th>\n",
       "      <td>10845</td>\n",
       "      <td>O texto não fornece informações específicas so...</td>\n",
       "      <td>Epoch 3</td>\n",
       "    </tr>\n",
       "  </tbody>\n",
       "</table>\n",
       "<p>17000 rows × 3 columns</p>\n",
       "</div>"
      ],
      "text/plain": [
       "            id                                     generated_text  \\\n",
       "0        57237  A Los Angeles Lakers é uma equipe de basqueteb...   \n",
       "1        10306  O elétron é uma partícula subatômica com símbo...   \n",
       "2      2118886  A rainha Sofia, filha do rei Constantino I, fo...   \n",
       "3         1695  Aqui está um resumo do texto em português:\\n\\n...   \n",
       "4      5448408  A crise migratória venezuelana é uma emigração...   \n",
       "...        ...                                                ...   \n",
       "16995    10831  O texto apresenta eventos históricos, incluind...   \n",
       "16996    10889  O texto apresenta eventos históricos, incluind...   \n",
       "16997    10892  O texto apresenta eventos históricos, incluind...   \n",
       "16998    10883  O texto apresenta eventos históricos, incluind...   \n",
       "16999    10845  O texto não fornece informações específicas so...   \n",
       "\n",
       "      checkpoint_name  \n",
       "0           Raw model  \n",
       "1           Raw model  \n",
       "2           Raw model  \n",
       "3           Raw model  \n",
       "4           Raw model  \n",
       "...               ...  \n",
       "16995         Epoch 3  \n",
       "16996         Epoch 3  \n",
       "16997         Epoch 3  \n",
       "16998         Epoch 3  \n",
       "16999         Epoch 3  \n",
       "\n",
       "[17000 rows x 3 columns]"
      ]
     },
     "execution_count": 24,
     "metadata": {},
     "output_type": "execute_result"
    }
   ],
   "source": [
    "generated_summaries = pd.concat(all_df, ignore_index=True)\n",
    "generated_summaries"
   ]
  },
  {
   "cell_type": "code",
   "execution_count": 25,
   "metadata": {},
   "outputs": [
    {
     "data": {
      "text/html": [
       "<div>\n",
       "<style scoped>\n",
       "    .dataframe tbody tr th:only-of-type {\n",
       "        vertical-align: middle;\n",
       "    }\n",
       "\n",
       "    .dataframe tbody tr th {\n",
       "        vertical-align: top;\n",
       "    }\n",
       "\n",
       "    .dataframe thead th {\n",
       "        text-align: right;\n",
       "    }\n",
       "</style>\n",
       "<table border=\"1\" class=\"dataframe\">\n",
       "  <thead>\n",
       "    <tr style=\"text-align: right;\">\n",
       "      <th></th>\n",
       "      <th>id</th>\n",
       "      <th>generated_text</th>\n",
       "      <th>checkpoint_name</th>\n",
       "      <th>reference_summary</th>\n",
       "    </tr>\n",
       "  </thead>\n",
       "  <tbody>\n",
       "    <tr>\n",
       "      <th>0</th>\n",
       "      <td>57237</td>\n",
       "      <td>A Los Angeles Lakers é uma equipe de basqueteb...</td>\n",
       "      <td>Raw model</td>\n",
       "      <td>O Los Angeles Lakers é um time de basquetebol ...</td>\n",
       "    </tr>\n",
       "    <tr>\n",
       "      <th>1</th>\n",
       "      <td>10306</td>\n",
       "      <td>O elétron é uma partícula subatômica com símbo...</td>\n",
       "      <td>Raw model</td>\n",
       "      <td>O elétron é uma partícula subatômica com carga...</td>\n",
       "    </tr>\n",
       "    <tr>\n",
       "      <th>2</th>\n",
       "      <td>2118886</td>\n",
       "      <td>A rainha Sofia, filha do rei Constantino I, fo...</td>\n",
       "      <td>Raw model</td>\n",
       "      <td>Sofia Doroteia Ulrica Alice, rainha consorte d...</td>\n",
       "    </tr>\n",
       "    <tr>\n",
       "      <th>3</th>\n",
       "      <td>1695</td>\n",
       "      <td>Aqui está um resumo do texto em português:\\n\\n...</td>\n",
       "      <td>Raw model</td>\n",
       "      <td>Um sistema operacional é um programa que geren...</td>\n",
       "    </tr>\n",
       "    <tr>\n",
       "      <th>4</th>\n",
       "      <td>5448408</td>\n",
       "      <td>A crise migratória venezuelana é uma emigração...</td>\n",
       "      <td>Raw model</td>\n",
       "      <td>A crise migratória venezuelana é uma das maior...</td>\n",
       "    </tr>\n",
       "    <tr>\n",
       "      <th>...</th>\n",
       "      <td>...</td>\n",
       "      <td>...</td>\n",
       "      <td>...</td>\n",
       "      <td>...</td>\n",
       "    </tr>\n",
       "    <tr>\n",
       "      <th>16995</th>\n",
       "      <td>10831</td>\n",
       "      <td>O texto apresenta eventos históricos, incluind...</td>\n",
       "      <td>Epoch 3</td>\n",
       "      <td>Infelizmente, não há texto disponível para ger...</td>\n",
       "    </tr>\n",
       "    <tr>\n",
       "      <th>16996</th>\n",
       "      <td>10889</td>\n",
       "      <td>O texto apresenta eventos históricos, incluind...</td>\n",
       "      <td>Epoch 3</td>\n",
       "      <td>Infelizmente, não há texto disponível para ger...</td>\n",
       "    </tr>\n",
       "    <tr>\n",
       "      <th>16997</th>\n",
       "      <td>10892</td>\n",
       "      <td>O texto apresenta eventos históricos, incluind...</td>\n",
       "      <td>Epoch 3</td>\n",
       "      <td>Infelizmente, não há texto disponível para ger...</td>\n",
       "    </tr>\n",
       "    <tr>\n",
       "      <th>16998</th>\n",
       "      <td>10883</td>\n",
       "      <td>O texto apresenta eventos históricos, incluind...</td>\n",
       "      <td>Epoch 3</td>\n",
       "      <td>Infelizmente, não há texto disponível para ger...</td>\n",
       "    </tr>\n",
       "    <tr>\n",
       "      <th>16999</th>\n",
       "      <td>10845</td>\n",
       "      <td>O texto não fornece informações específicas so...</td>\n",
       "      <td>Epoch 3</td>\n",
       "      <td>Infelizmente, não há texto para gerar um resum...</td>\n",
       "    </tr>\n",
       "  </tbody>\n",
       "</table>\n",
       "<p>17000 rows × 4 columns</p>\n",
       "</div>"
      ],
      "text/plain": [
       "            id                                     generated_text  \\\n",
       "0        57237  A Los Angeles Lakers é uma equipe de basqueteb...   \n",
       "1        10306  O elétron é uma partícula subatômica com símbo...   \n",
       "2      2118886  A rainha Sofia, filha do rei Constantino I, fo...   \n",
       "3         1695  Aqui está um resumo do texto em português:\\n\\n...   \n",
       "4      5448408  A crise migratória venezuelana é uma emigração...   \n",
       "...        ...                                                ...   \n",
       "16995    10831  O texto apresenta eventos históricos, incluind...   \n",
       "16996    10889  O texto apresenta eventos históricos, incluind...   \n",
       "16997    10892  O texto apresenta eventos históricos, incluind...   \n",
       "16998    10883  O texto apresenta eventos históricos, incluind...   \n",
       "16999    10845  O texto não fornece informações específicas so...   \n",
       "\n",
       "      checkpoint_name                                  reference_summary  \n",
       "0           Raw model  O Los Angeles Lakers é um time de basquetebol ...  \n",
       "1           Raw model  O elétron é uma partícula subatômica com carga...  \n",
       "2           Raw model  Sofia Doroteia Ulrica Alice, rainha consorte d...  \n",
       "3           Raw model  Um sistema operacional é um programa que geren...  \n",
       "4           Raw model  A crise migratória venezuelana é uma das maior...  \n",
       "...               ...                                                ...  \n",
       "16995         Epoch 3  Infelizmente, não há texto disponível para ger...  \n",
       "16996         Epoch 3  Infelizmente, não há texto disponível para ger...  \n",
       "16997         Epoch 3  Infelizmente, não há texto disponível para ger...  \n",
       "16998         Epoch 3  Infelizmente, não há texto disponível para ger...  \n",
       "16999         Epoch 3  Infelizmente, não há texto para gerar um resum...  \n",
       "\n",
       "[17000 rows x 4 columns]"
      ]
     },
     "execution_count": 25,
     "metadata": {},
     "output_type": "execute_result"
    }
   ],
   "source": [
    "df = pd.merge(\n",
    "    generated_summaries,\n",
    "    reference_summary,\n",
    "    on='id',\n",
    "    how = 'left'\n",
    ")\n",
    "df"
   ]
  },
  {
   "cell_type": "markdown",
   "metadata": {},
   "source": [
    "## Sequence length\n",
    "\n",
    "We verify if the summary has ~ 100 words"
   ]
  },
  {
   "cell_type": "code",
   "execution_count": 26,
   "metadata": {},
   "outputs": [
    {
     "name": "stderr",
     "output_type": "stream",
     "text": [
      "100%|██████████| 17000/17000 [00:00<00:00, 197167.79it/s]\n",
      "100%|██████████| 17000/17000 [00:00<00:00, 153903.47it/s]\n"
     ]
    }
   ],
   "source": [
    "df['reference_length'] = df['reference_summary']\\\n",
    "    .progress_apply(lambda x: len(x.split()))\n",
    "df['generated_length'] = df['generated_text']\\\n",
    "    .progress_apply(lambda x: len(x.split()))"
   ]
  },
  {
   "cell_type": "code",
   "execution_count": 27,
   "metadata": {},
   "outputs": [
    {
     "data": {
      "text/plain": [
       "<Axes: xlabel='reference_length', ylabel='Count'>"
      ]
     },
     "execution_count": 27,
     "metadata": {},
     "output_type": "execute_result"
    },
    {
     "data": {
      "image/png": "[encoded data removed]",
      "text/plain": [
       "<Figure size 800x500 with 1 Axes>"
      ]
     },
     "metadata": {},
     "output_type": "display_data"
    }
   ],
   "source": [
    "plt.rcParams.update({'font.size': 18})\n",
    "plt.figure(figsize = (8,5))\n",
    "sns.histplot(\n",
    "    df,\n",
    "    x = 'reference_length',\n",
    ")"
   ]
  },
  {
   "cell_type": "code",
   "execution_count": 43,
   "metadata": {},
   "outputs": [
    {
     "data": {
      "text/plain": [
       "<Axes: xlabel='generated_length', ylabel='Count'>"
      ]
     },
     "execution_count": 43,
     "metadata": {},
     "output_type": "execute_result"
    },
    {
     "data": {
      "image/png": "[encoded data removed]",
      "text/plain": [
       "<Figure size 800x500 with 1 Axes>"
      ]
     },
     "metadata": {},
     "output_type": "display_data"
    }
   ],
   "source": [
    "plt.rcParams.update({'font.size': 18})\n",
    "plt.figure(figsize = (8,5))\n",
    "sns.histplot(\n",
    "    df,\n",
    "    x = 'generated_length',\n",
    "    hue='checkpoint_name',\n",
    "    palette= 'viridis_r',\n",
    "    # alpha = 0.6\n",
    ")"
   ]
  },
  {
   "cell_type": "markdown",
   "metadata": {},
   "source": [
    "## Language\n",
    "\n",
    "Checking how many texts are not in portuguese"
   ]
  },
  {
   "cell_type": "code",
   "execution_count": 62,
   "metadata": {},
   "outputs": [
    {
     "name": "stderr",
     "output_type": "stream",
     "text": [
      "100%|██████████| 17000/17000 [00:39<00:00, 433.57it/s]\n"
     ]
    }
   ],
   "source": [
    "df['language'] = df['generated_text'].progress_apply(detect)"
   ]
  },
  {
   "cell_type": "code",
   "execution_count": 65,
   "metadata": {},
   "outputs": [
    {
     "name": "stderr",
     "output_type": "stream",
     "text": [
      "100%|██████████| 5/5 [00:00<00:00, 1215.25it/s]\n"
     ]
    },
    {
     "data": {
      "text/plain": [
       "checkpoint_name\n",
       "Epoch 0      0.005000\n",
       "Epoch 1      0.002333\n",
       "Epoch 2      0.004000\n",
       "Epoch 3      0.003333\n",
       "Raw model    0.023800\n",
       "dtype: float64"
      ]
     },
     "execution_count": 65,
     "metadata": {},
     "output_type": "execute_result"
    }
   ],
   "source": [
    "def count_non_portuguese_text(df):\n",
    "    return (df['language'] != 'pt').sum()/len(df)\n",
    "\n",
    "df.groupby(\"checkpoint_name\")\\\n",
    "    .progress_apply(count_non_portuguese_text)"
   ]
  },
  {
   "cell_type": "code",
   "execution_count": 15,
   "metadata": {},
   "outputs": [],
   "source": [
    "predictions = df[\"generated_text\"].tolist()\n",
    "references = df[\"reference_summary\"].tolist()"
   ]
  },
  {
   "cell_type": "code",
   "execution_count": 16,
   "metadata": {},
   "outputs": [
    {
     "name": "stderr",
     "output_type": "stream",
     "text": [
      "Computing ROUGE per checkpoint: 100%|██████████| 5/5 [01:26<00:00, 17.35s/it]\n"
     ]
    }
   ],
   "source": [
    "checkpoint_groups = df.groupby(\"checkpoint_name\")\n",
    "rouge = evaluate.load(\"rouge\")\n",
    "# Store results\n",
    "checkpoint_rouge_scores = {}\n",
    "\n",
    "# Iterate over each checkpoint with tqdm\n",
    "for checkpoint, group in tqdm(checkpoint_groups, desc=\"Computing ROUGE per checkpoint\"):\n",
    "    predictions = group[\"generated_text\"].tolist()\n",
    "    references = group[\"reference_summary\"].tolist()\n",
    "    \n",
    "    # Compute ROUGE for this checkpoint\n",
    "    scores = rouge.compute(predictions=predictions, references=references)\n",
    "    \n",
    "    # Store the results\n",
    "    checkpoint_rouge_scores[checkpoint] = scores"
   ]
  },
  {
   "cell_type": "code",
   "execution_count": 17,
   "metadata": {},
   "outputs": [
    {
     "data": {
      "text/html": [
       "<div>\n",
       "<style scoped>\n",
       "    .dataframe tbody tr th:only-of-type {\n",
       "        vertical-align: middle;\n",
       "    }\n",
       "\n",
       "    .dataframe tbody tr th {\n",
       "        vertical-align: top;\n",
       "    }\n",
       "\n",
       "    .dataframe thead th {\n",
       "        text-align: right;\n",
       "    }\n",
       "</style>\n",
       "<table border=\"1\" class=\"dataframe\">\n",
       "  <thead>\n",
       "    <tr style=\"text-align: right;\">\n",
       "      <th></th>\n",
       "      <th>rouge1</th>\n",
       "      <th>rouge2</th>\n",
       "      <th>rougeL</th>\n",
       "      <th>rougeLsum</th>\n",
       "    </tr>\n",
       "  </thead>\n",
       "  <tbody>\n",
       "    <tr>\n",
       "      <th>0</th>\n",
       "      <td>0.399231</td>\n",
       "      <td>0.227885</td>\n",
       "      <td>0.303844</td>\n",
       "      <td>0.304760</td>\n",
       "    </tr>\n",
       "    <tr>\n",
       "      <th>1</th>\n",
       "      <td>0.508729</td>\n",
       "      <td>0.297941</td>\n",
       "      <td>0.385473</td>\n",
       "      <td>0.386386</td>\n",
       "    </tr>\n",
       "    <tr>\n",
       "      <th>2</th>\n",
       "      <td>0.527032</td>\n",
       "      <td>0.312444</td>\n",
       "      <td>0.399391</td>\n",
       "      <td>0.400336</td>\n",
       "    </tr>\n",
       "    <tr>\n",
       "      <th>3</th>\n",
       "      <td>0.536176</td>\n",
       "      <td>0.320846</td>\n",
       "      <td>0.406204</td>\n",
       "      <td>0.407146</td>\n",
       "    </tr>\n",
       "    <tr>\n",
       "      <th>raw model</th>\n",
       "      <td>0.402349</td>\n",
       "      <td>0.209294</td>\n",
       "      <td>0.290824</td>\n",
       "      <td>0.292813</td>\n",
       "    </tr>\n",
       "  </tbody>\n",
       "</table>\n",
       "</div>"
      ],
      "text/plain": [
       "             rouge1    rouge2    rougeL  rougeLsum\n",
       "0          0.399231  0.227885  0.303844   0.304760\n",
       "1          0.508729  0.297941  0.385473   0.386386\n",
       "2          0.527032  0.312444  0.399391   0.400336\n",
       "3          0.536176  0.320846  0.406204   0.407146\n",
       "raw model  0.402349  0.209294  0.290824   0.292813"
      ]
     },
     "execution_count": 17,
     "metadata": {},
     "output_type": "execute_result"
    }
   ],
   "source": [
    "pd.DataFrame(checkpoint_rouge_scores).T"
   ]
  },
  {
   "cell_type": "code",
   "execution_count": 18,
   "metadata": {},
   "outputs": [
    {
     "name": "stderr",
     "output_type": "stream",
     "text": [
      "Computing BERT-SCORE per checkpoint: 100%|██████████| 5/5 [02:30<00:00, 30.20s/it]\n"
     ]
    }
   ],
   "source": [
    "checkpoint_groups = df.groupby(\"checkpoint_name\")\n",
    "bertscore = evaluate.load(\"bertscore\")\n",
    "\n",
    "# Store results\n",
    "checkpoint_bert_scores = {}\n",
    "\n",
    "# Iterate over each checkpoint with tqdm\n",
    "for checkpoint, group in tqdm(checkpoint_groups, desc=\"Computing BERT-SCORE per checkpoint\"):\n",
    "    predictions = group[\"generated_text\"].tolist()\n",
    "    references = group[\"reference_summary\"].tolist()\n",
    "    \n",
    "    # Compute ROUGE for this checkpoint\n",
    "    scores = bertscore.compute(predictions=predictions, references=references, lang = 'pt',)\n",
    "    \n",
    "    # Store the results\n",
    "    checkpoint_bert_scores[checkpoint] = scores"
   ]
  },
  {
   "cell_type": "code",
   "execution_count": 58,
   "metadata": {},
   "outputs": [
    {
     "data": {
      "text/html": [
       "<div>\n",
       "<style scoped>\n",
       "    .dataframe tbody tr th:only-of-type {\n",
       "        vertical-align: middle;\n",
       "    }\n",
       "\n",
       "    .dataframe tbody tr th {\n",
       "        vertical-align: top;\n",
       "    }\n",
       "\n",
       "    .dataframe thead th {\n",
       "        text-align: right;\n",
       "    }\n",
       "</style>\n",
       "<table border=\"1\" class=\"dataframe\">\n",
       "  <thead>\n",
       "    <tr style=\"text-align: right;\">\n",
       "      <th></th>\n",
       "      <th>0</th>\n",
       "      <th>1</th>\n",
       "      <th>2</th>\n",
       "      <th>3</th>\n",
       "      <th>4</th>\n",
       "      <th>5</th>\n",
       "      <th>6</th>\n",
       "      <th>7</th>\n",
       "      <th>8</th>\n",
       "      <th>9</th>\n",
       "      <th>...</th>\n",
       "      <th>4990</th>\n",
       "      <th>4991</th>\n",
       "      <th>4992</th>\n",
       "      <th>4993</th>\n",
       "      <th>4994</th>\n",
       "      <th>4995</th>\n",
       "      <th>4996</th>\n",
       "      <th>4997</th>\n",
       "      <th>4998</th>\n",
       "      <th>4999</th>\n",
       "    </tr>\n",
       "  </thead>\n",
       "  <tbody>\n",
       "    <tr>\n",
       "      <th>0</th>\n",
       "      <td>0.443117</td>\n",
       "      <td>0.808201</td>\n",
       "      <td>0.689617</td>\n",
       "      <td>0.698662</td>\n",
       "      <td>0.714391</td>\n",
       "      <td>0.764670</td>\n",
       "      <td>0.782263</td>\n",
       "      <td>0.655890</td>\n",
       "      <td>0.733659</td>\n",
       "      <td>0.738448</td>\n",
       "      <td>...</td>\n",
       "      <td>NaN</td>\n",
       "      <td>NaN</td>\n",
       "      <td>NaN</td>\n",
       "      <td>NaN</td>\n",
       "      <td>NaN</td>\n",
       "      <td>NaN</td>\n",
       "      <td>NaN</td>\n",
       "      <td>NaN</td>\n",
       "      <td>NaN</td>\n",
       "      <td>NaN</td>\n",
       "    </tr>\n",
       "    <tr>\n",
       "      <th>1</th>\n",
       "      <td>0.790199</td>\n",
       "      <td>0.782505</td>\n",
       "      <td>0.781579</td>\n",
       "      <td>0.799191</td>\n",
       "      <td>0.820441</td>\n",
       "      <td>0.770987</td>\n",
       "      <td>0.905978</td>\n",
       "      <td>0.476039</td>\n",
       "      <td>0.812753</td>\n",
       "      <td>0.821006</td>\n",
       "      <td>...</td>\n",
       "      <td>NaN</td>\n",
       "      <td>NaN</td>\n",
       "      <td>NaN</td>\n",
       "      <td>NaN</td>\n",
       "      <td>NaN</td>\n",
       "      <td>NaN</td>\n",
       "      <td>NaN</td>\n",
       "      <td>NaN</td>\n",
       "      <td>NaN</td>\n",
       "      <td>NaN</td>\n",
       "    </tr>\n",
       "    <tr>\n",
       "      <th>2</th>\n",
       "      <td>0.825894</td>\n",
       "      <td>0.891816</td>\n",
       "      <td>0.859487</td>\n",
       "      <td>0.808960</td>\n",
       "      <td>0.807983</td>\n",
       "      <td>0.768575</td>\n",
       "      <td>0.922684</td>\n",
       "      <td>0.476039</td>\n",
       "      <td>0.789034</td>\n",
       "      <td>0.858813</td>\n",
       "      <td>...</td>\n",
       "      <td>NaN</td>\n",
       "      <td>NaN</td>\n",
       "      <td>NaN</td>\n",
       "      <td>NaN</td>\n",
       "      <td>NaN</td>\n",
       "      <td>NaN</td>\n",
       "      <td>NaN</td>\n",
       "      <td>NaN</td>\n",
       "      <td>NaN</td>\n",
       "      <td>NaN</td>\n",
       "    </tr>\n",
       "    <tr>\n",
       "      <th>3</th>\n",
       "      <td>0.782626</td>\n",
       "      <td>0.873650</td>\n",
       "      <td>0.853461</td>\n",
       "      <td>0.784830</td>\n",
       "      <td>0.847583</td>\n",
       "      <td>0.793682</td>\n",
       "      <td>0.769371</td>\n",
       "      <td>0.476039</td>\n",
       "      <td>0.814143</td>\n",
       "      <td>0.837273</td>\n",
       "      <td>...</td>\n",
       "      <td>NaN</td>\n",
       "      <td>NaN</td>\n",
       "      <td>NaN</td>\n",
       "      <td>NaN</td>\n",
       "      <td>NaN</td>\n",
       "      <td>NaN</td>\n",
       "      <td>NaN</td>\n",
       "      <td>NaN</td>\n",
       "      <td>NaN</td>\n",
       "      <td>NaN</td>\n",
       "    </tr>\n",
       "    <tr>\n",
       "      <th>4</th>\n",
       "      <td>0.713285</td>\n",
       "      <td>0.738360</td>\n",
       "      <td>0.766152</td>\n",
       "      <td>0.763714</td>\n",
       "      <td>0.801052</td>\n",
       "      <td>0.708057</td>\n",
       "      <td>0.867467</td>\n",
       "      <td>0.715916</td>\n",
       "      <td>0.720680</td>\n",
       "      <td>0.838550</td>\n",
       "      <td>...</td>\n",
       "      <td>0.651694</td>\n",
       "      <td>0.651694</td>\n",
       "      <td>0.651694</td>\n",
       "      <td>0.651694</td>\n",
       "      <td>0.651694</td>\n",
       "      <td>0.577276</td>\n",
       "      <td>0.577276</td>\n",
       "      <td>0.577276</td>\n",
       "      <td>0.577276</td>\n",
       "      <td>0.597323</td>\n",
       "    </tr>\n",
       "  </tbody>\n",
       "</table>\n",
       "<p>5 rows × 5000 columns</p>\n",
       "</div>"
      ],
      "text/plain": [
       "       0         1         2         3         4         5         6     \\\n",
       "0  0.443117  0.808201  0.689617  0.698662  0.714391  0.764670  0.782263   \n",
       "1  0.790199  0.782505  0.781579  0.799191  0.820441  0.770987  0.905978   \n",
       "2  0.825894  0.891816  0.859487  0.808960  0.807983  0.768575  0.922684   \n",
       "3  0.782626  0.873650  0.853461  0.784830  0.847583  0.793682  0.769371   \n",
       "4  0.713285  0.738360  0.766152  0.763714  0.801052  0.708057  0.867467   \n",
       "\n",
       "       7         8         9     ...      4990      4991      4992      4993  \\\n",
       "0  0.655890  0.733659  0.738448  ...       NaN       NaN       NaN       NaN   \n",
       "1  0.476039  0.812753  0.821006  ...       NaN       NaN       NaN       NaN   \n",
       "2  0.476039  0.789034  0.858813  ...       NaN       NaN       NaN       NaN   \n",
       "3  0.476039  0.814143  0.837273  ...       NaN       NaN       NaN       NaN   \n",
       "4  0.715916  0.720680  0.838550  ...  0.651694  0.651694  0.651694  0.651694   \n",
       "\n",
       "       4994      4995      4996      4997      4998      4999  \n",
       "0       NaN       NaN       NaN       NaN       NaN       NaN  \n",
       "1       NaN       NaN       NaN       NaN       NaN       NaN  \n",
       "2       NaN       NaN       NaN       NaN       NaN       NaN  \n",
       "3       NaN       NaN       NaN       NaN       NaN       NaN  \n",
       "4  0.651694  0.577276  0.577276  0.577276  0.577276  0.597323  \n",
       "\n",
       "[5 rows x 5000 columns]"
      ]
     },
     "execution_count": 58,
     "metadata": {},
     "output_type": "execute_result"
    }
   ],
   "source": [
    "(pd.DataFrame(checkpoint_bert_scores).loc['f1'].tolist())"
   ]
  },
  {
   "cell_type": "code",
   "execution_count": 19,
   "metadata": {},
   "outputs": [
    {
     "name": "stdout",
     "output_type": "stream",
     "text": [
      "0 0.7331661378840605\n",
      "1 0.7811527064839999\n",
      "2 0.7887276373306911\n",
      "3 0.7931608695983887\n",
      "raw model 0.739516812390089\n"
     ]
    }
   ],
   "source": [
    "for k in checkpoint_bert_scores.keys():\n",
    "    print(k, np.mean(checkpoint_bert_scores[k]['f1']))"
   ]
  },
  {
   "cell_type": "code",
   "execution_count": null,
   "metadata": {},
   "outputs": [],
   "source": []
  },
  {
   "cell_type": "code",
   "execution_count": null,
   "metadata": {},
   "outputs": [],
   "source": []
  }
 ],
 "metadata": {
  "kernelspec": {
   "display_name": "base",
   "language": "python",
   "name": "python3"
  },
  "language_info": {
   "codemirror_mode": {
    "name": "ipython",
    "version": 3
   },
   "file_extension": ".py",
   "mimetype": "text/x-python",
   "name": "python",
   "nbconvert_exporter": "python",
   "pygments_lexer": "ipython3",
   "version": "3.11.3"
  }
 },
 "nbformat": 4,
 "nbformat_minor": 2
}
