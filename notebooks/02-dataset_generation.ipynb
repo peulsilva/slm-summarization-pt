{
 "cells": [
  {
   "cell_type": "code",
   "execution_count": 1,
   "metadata": {},
   "outputs": [],
   "source": [
    "%load_ext autoreload\n",
    "%autoreload 2"
   ]
  },
  {
   "cell_type": "code",
   "execution_count": 2,
   "metadata": {},
   "outputs": [
    {
     "name": "stdout",
     "output_type": "stream",
     "text": [
      "Sun Feb 23 09:40:15 2025       \n",
      "+-----------------------------------------------------------------------------------------+\n",
      "| NVIDIA-SMI 550.144.03             Driver Version: 550.144.03     CUDA Version: 12.4     |\n",
      "|-----------------------------------------+------------------------+----------------------+\n",
      "| GPU  Name                 Persistence-M | Bus-Id          Disp.A | Volatile Uncorr. ECC |\n",
      "| Fan  Temp   Perf          Pwr:Usage/Cap |           Memory-Usage | GPU-Util  Compute M. |\n",
      "|                                         |                        |               MIG M. |\n",
      "|=========================================+========================+======================|\n",
      "|   0  NVIDIA RTX A5000               Off |   00000000:01:00.0 Off |                  Off |\n",
      "| 30%   31C    P8             19W /  230W |     122MiB /  24564MiB |      1%      Default |\n",
      "|                                         |                        |                  N/A |\n",
      "+-----------------------------------------+------------------------+----------------------+\n",
      "                                                                                         \n",
      "+-----------------------------------------------------------------------------------------+\n",
      "| Processes:                                                                              |\n",
      "|  GPU   GI   CI        PID   Type   Process name                              GPU Memory |\n",
      "|        ID   ID                                                               Usage      |\n",
      "|=========================================================================================|\n",
      "|    0   N/A  N/A    495846      G   /usr/libexec/Xorg                              94MiB |\n",
      "|    0   N/A  N/A    495872      G   /usr/bin/gnome-shell                           19MiB |\n",
      "+-----------------------------------------------------------------------------------------+\n"
     ]
    }
   ],
   "source": [
    "!nvidia-smi"
   ]
  },
  {
   "cell_type": "code",
   "execution_count": 3,
   "metadata": {},
   "outputs": [],
   "source": [
    "import os\n",
    "\n",
    "if 'notebooks' in os.getcwd():\n",
    "    os.chdir(\"..\")\n",
    "\n",
    "\n",
    "from datasets import load_dataset, Dataset\n",
    "from huggingface_hub import notebook_login\n",
    "import pandas as pd\n",
    "import numpy as np\n",
    "import matplotlib.pyplot as plt\n",
    "import seaborn as sns\n",
    "import requests\n",
    "import json\n",
    "import time\n",
    "import csv\n",
    "from concurrent.futures import ThreadPoolExecutor, as_completed\n",
    "from tqdm import tqdm\n",
    "from transformers import pipeline, AutoModelForSequenceClassification, AutoTokenizer\n",
    "import aiohttp\n",
    "import asyncio\n",
    "from tqdm.asyncio import tqdm\n",
    "import torch\n",
    "import scienceplots\n",
    "plt.style.use(['science', 'no-latex'])\n",
    "\n",
    "from src.text_utils import trim_text_to_token_limit\n",
    "\n",
    "tqdm.pandas()"
   ]
  },
  {
   "cell_type": "code",
   "execution_count": 4,
   "metadata": {},
   "outputs": [
    {
     "data": {
      "application/vnd.jupyter.widget-view+json": {
       "model_id": "6ae2f9079bc844f693682dcfe79a97c3",
       "version_major": 2,
       "version_minor": 0
      },
      "text/plain": [
       "VBox(children=(HTML(value='<center> <img\\nsrc=https://huggingface.co/front/assets/huggingface_logo-noborder.sv…"
      ]
     },
     "metadata": {},
     "output_type": "display_data"
    }
   ],
   "source": [
    "notebook_login()"
   ]
  },
  {
   "cell_type": "code",
   "execution_count": 5,
   "metadata": {},
   "outputs": [],
   "source": [
    "torch.cuda.set_per_process_memory_fraction(0.6, device=0)\n"
   ]
  },
  {
   "cell_type": "markdown",
   "metadata": {},
   "source": [
    "# Generating dataset"
   ]
  },
  {
   "cell_type": "markdown",
   "metadata": {},
   "source": [
    "In this notebook we will sample our data for the training loop.\n",
    "\n",
    "Given a dataset with texts and topics we take 1000 indexes randomly from each topic. Since we want our text to take into account the number of views and to have a diversified context length we apply the following probability distribution in the sampling process.\n",
    "\n",
    "\\begin{equation}\n",
    "    \\mathbb{P}(x_i \\in \\mathcal{D}) \\propto \\left(\\text{number of views in }x_i \\right) \\times {(\\text{number of words in } x_i) } \n",
    "\\end{equation}"
   ]
  },
  {
   "cell_type": "code",
   "execution_count": 6,
   "metadata": {},
   "outputs": [],
   "source": [
    "df = load_dataset(\"peulsilva/wikipedia-pt-topics2\", cache_dir='/Data')['train']\\\n",
    "    .to_pandas()"
   ]
  },
  {
   "cell_type": "code",
   "execution_count": 7,
   "metadata": {},
   "outputs": [
    {
     "name": "stderr",
     "output_type": "stream",
     "text": [
      "/tmp/ipykernel_1039421/19148627.py:8: SettingWithCopyWarning: \n",
      "A value is trying to be set on a copy of a slice from a DataFrame.\n",
      "Try using .loc[row_indexer,col_indexer] = value instead\n",
      "\n",
      "See the caveats in the documentation: https://pandas.pydata.org/pandas-docs/stable/user_guide/indexing.html#returning-a-view-versus-a-copy\n",
      "  df_topic['weight'] = df_topic['num_views']\n",
      "/tmp/ipykernel_1039421/19148627.py:17: SettingWithCopyWarning: \n",
      "A value is trying to be set on a copy of a slice from a DataFrame.\n",
      "Try using .loc[row_indexer,col_indexer] = value instead\n",
      "\n",
      "See the caveats in the documentation: https://pandas.pydata.org/pandas-docs/stable/user_guide/indexing.html#returning-a-view-versus-a-copy\n",
      "  df_samples['word_weighting'] = False\n",
      "/tmp/ipykernel_1039421/19148627.py:8: SettingWithCopyWarning: \n",
      "A value is trying to be set on a copy of a slice from a DataFrame.\n",
      "Try using .loc[row_indexer,col_indexer] = value instead\n",
      "\n",
      "See the caveats in the documentation: https://pandas.pydata.org/pandas-docs/stable/user_guide/indexing.html#returning-a-view-versus-a-copy\n",
      "  df_topic['weight'] = df_topic['num_views']\n",
      "/tmp/ipykernel_1039421/19148627.py:17: SettingWithCopyWarning: \n",
      "A value is trying to be set on a copy of a slice from a DataFrame.\n",
      "Try using .loc[row_indexer,col_indexer] = value instead\n",
      "\n",
      "See the caveats in the documentation: https://pandas.pydata.org/pandas-docs/stable/user_guide/indexing.html#returning-a-view-versus-a-copy\n",
      "  df_samples['word_weighting'] = False\n",
      "/tmp/ipykernel_1039421/19148627.py:8: SettingWithCopyWarning: \n",
      "A value is trying to be set on a copy of a slice from a DataFrame.\n",
      "Try using .loc[row_indexer,col_indexer] = value instead\n",
      "\n",
      "See the caveats in the documentation: https://pandas.pydata.org/pandas-docs/stable/user_guide/indexing.html#returning-a-view-versus-a-copy\n",
      "  df_topic['weight'] = df_topic['num_views']\n",
      "/tmp/ipykernel_1039421/19148627.py:17: SettingWithCopyWarning: \n",
      "A value is trying to be set on a copy of a slice from a DataFrame.\n",
      "Try using .loc[row_indexer,col_indexer] = value instead\n",
      "\n",
      "See the caveats in the documentation: https://pandas.pydata.org/pandas-docs/stable/user_guide/indexing.html#returning-a-view-versus-a-copy\n",
      "  df_samples['word_weighting'] = False\n",
      "/tmp/ipykernel_1039421/19148627.py:8: SettingWithCopyWarning: \n",
      "A value is trying to be set on a copy of a slice from a DataFrame.\n",
      "Try using .loc[row_indexer,col_indexer] = value instead\n",
      "\n",
      "See the caveats in the documentation: https://pandas.pydata.org/pandas-docs/stable/user_guide/indexing.html#returning-a-view-versus-a-copy\n",
      "  df_topic['weight'] = df_topic['num_views']\n",
      "/tmp/ipykernel_1039421/19148627.py:17: SettingWithCopyWarning: \n",
      "A value is trying to be set on a copy of a slice from a DataFrame.\n",
      "Try using .loc[row_indexer,col_indexer] = value instead\n",
      "\n",
      "See the caveats in the documentation: https://pandas.pydata.org/pandas-docs/stable/user_guide/indexing.html#returning-a-view-versus-a-copy\n",
      "  df_samples['word_weighting'] = False\n",
      "/tmp/ipykernel_1039421/19148627.py:8: SettingWithCopyWarning: \n",
      "A value is trying to be set on a copy of a slice from a DataFrame.\n",
      "Try using .loc[row_indexer,col_indexer] = value instead\n",
      "\n",
      "See the caveats in the documentation: https://pandas.pydata.org/pandas-docs/stable/user_guide/indexing.html#returning-a-view-versus-a-copy\n",
      "  df_topic['weight'] = df_topic['num_views']\n",
      "/tmp/ipykernel_1039421/19148627.py:17: SettingWithCopyWarning: \n",
      "A value is trying to be set on a copy of a slice from a DataFrame.\n",
      "Try using .loc[row_indexer,col_indexer] = value instead\n",
      "\n",
      "See the caveats in the documentation: https://pandas.pydata.org/pandas-docs/stable/user_guide/indexing.html#returning-a-view-versus-a-copy\n",
      "  df_samples['word_weighting'] = False\n",
      "/tmp/ipykernel_1039421/19148627.py:22: SettingWithCopyWarning: \n",
      "A value is trying to be set on a copy of a slice from a DataFrame.\n",
      "Try using .loc[row_indexer,col_indexer] = value instead\n",
      "\n",
      "See the caveats in the documentation: https://pandas.pydata.org/pandas-docs/stable/user_guide/indexing.html#returning-a-view-versus-a-copy\n",
      "  df_topic['weight'] = df_topic['num_views'] * (df_topic['num_words'])\n",
      "/tmp/ipykernel_1039421/19148627.py:30: SettingWithCopyWarning: \n",
      "A value is trying to be set on a copy of a slice from a DataFrame.\n",
      "Try using .loc[row_indexer,col_indexer] = value instead\n",
      "\n",
      "See the caveats in the documentation: https://pandas.pydata.org/pandas-docs/stable/user_guide/indexing.html#returning-a-view-versus-a-copy\n",
      "  df_samples['word_weighting'] = True\n",
      "/tmp/ipykernel_1039421/19148627.py:22: SettingWithCopyWarning: \n",
      "A value is trying to be set on a copy of a slice from a DataFrame.\n",
      "Try using .loc[row_indexer,col_indexer] = value instead\n",
      "\n",
      "See the caveats in the documentation: https://pandas.pydata.org/pandas-docs/stable/user_guide/indexing.html#returning-a-view-versus-a-copy\n",
      "  df_topic['weight'] = df_topic['num_views'] * (df_topic['num_words'])\n",
      "/tmp/ipykernel_1039421/19148627.py:30: SettingWithCopyWarning: \n",
      "A value is trying to be set on a copy of a slice from a DataFrame.\n",
      "Try using .loc[row_indexer,col_indexer] = value instead\n",
      "\n",
      "See the caveats in the documentation: https://pandas.pydata.org/pandas-docs/stable/user_guide/indexing.html#returning-a-view-versus-a-copy\n",
      "  df_samples['word_weighting'] = True\n",
      "/tmp/ipykernel_1039421/19148627.py:22: SettingWithCopyWarning: \n",
      "A value is trying to be set on a copy of a slice from a DataFrame.\n",
      "Try using .loc[row_indexer,col_indexer] = value instead\n",
      "\n",
      "See the caveats in the documentation: https://pandas.pydata.org/pandas-docs/stable/user_guide/indexing.html#returning-a-view-versus-a-copy\n",
      "  df_topic['weight'] = df_topic['num_views'] * (df_topic['num_words'])\n",
      "/tmp/ipykernel_1039421/19148627.py:30: SettingWithCopyWarning: \n",
      "A value is trying to be set on a copy of a slice from a DataFrame.\n",
      "Try using .loc[row_indexer,col_indexer] = value instead\n",
      "\n",
      "See the caveats in the documentation: https://pandas.pydata.org/pandas-docs/stable/user_guide/indexing.html#returning-a-view-versus-a-copy\n",
      "  df_samples['word_weighting'] = True\n",
      "/tmp/ipykernel_1039421/19148627.py:22: SettingWithCopyWarning: \n",
      "A value is trying to be set on a copy of a slice from a DataFrame.\n",
      "Try using .loc[row_indexer,col_indexer] = value instead\n",
      "\n",
      "See the caveats in the documentation: https://pandas.pydata.org/pandas-docs/stable/user_guide/indexing.html#returning-a-view-versus-a-copy\n",
      "  df_topic['weight'] = df_topic['num_views'] * (df_topic['num_words'])\n",
      "/tmp/ipykernel_1039421/19148627.py:30: SettingWithCopyWarning: \n",
      "A value is trying to be set on a copy of a slice from a DataFrame.\n",
      "Try using .loc[row_indexer,col_indexer] = value instead\n",
      "\n",
      "See the caveats in the documentation: https://pandas.pydata.org/pandas-docs/stable/user_guide/indexing.html#returning-a-view-versus-a-copy\n",
      "  df_samples['word_weighting'] = True\n",
      "/tmp/ipykernel_1039421/19148627.py:22: SettingWithCopyWarning: \n",
      "A value is trying to be set on a copy of a slice from a DataFrame.\n",
      "Try using .loc[row_indexer,col_indexer] = value instead\n",
      "\n",
      "See the caveats in the documentation: https://pandas.pydata.org/pandas-docs/stable/user_guide/indexing.html#returning-a-view-versus-a-copy\n",
      "  df_topic['weight'] = df_topic['num_views'] * (df_topic['num_words'])\n",
      "/tmp/ipykernel_1039421/19148627.py:30: SettingWithCopyWarning: \n",
      "A value is trying to be set on a copy of a slice from a DataFrame.\n",
      "Try using .loc[row_indexer,col_indexer] = value instead\n",
      "\n",
      "See the caveats in the documentation: https://pandas.pydata.org/pandas-docs/stable/user_guide/indexing.html#returning-a-view-versus-a-copy\n",
      "  df_samples['word_weighting'] = True\n"
     ]
    }
   ],
   "source": [
    "df['num_words'] = df['text'].apply(lambda x: len(x.split(' ')))\n",
    "all_df = []\n",
    "\n",
    "candidate_labels = [\"politica e negócios\", \"esporte\", \"ciência e tecnologia\", \"cultura e arte\",  \"geografia e historia\"]\n",
    "\n",
    "for topic in candidate_labels:\n",
    "    df_topic = df.query(f\"predicted_topic == '{topic}'\")\n",
    "    df_topic['weight'] = df_topic['num_views']\n",
    "    idx_topic = np.random.choice(\n",
    "        len(df_topic),\n",
    "        p = df_topic['weight']/df_topic['weight'].sum(),\n",
    "        size= 1_000,\n",
    "        replace = False\n",
    "    )\n",
    "\n",
    "    df_samples = df_topic.iloc[idx_topic]\n",
    "    df_samples['word_weighting'] = False\n",
    "    all_df.append(df_samples)\n",
    "\n",
    "for topic in candidate_labels:\n",
    "    df_topic = df.query(f\"predicted_topic == '{topic}'\")\n",
    "    df_topic['weight'] = df_topic['num_views'] * (df_topic['num_words'])\n",
    "    idx_topic = np.random.choice(\n",
    "        len(df_topic),\n",
    "        p = df_topic['weight']/df_topic['weight'].sum(),\n",
    "        size= 1_000,\n",
    "        replace = False\n",
    "    )\n",
    "    df_samples = df_topic.iloc[idx_topic]\n",
    "    df_samples['word_weighting'] = True\n",
    "    all_df.append(df_samples)\n",
    "\n",
    "\n"
   ]
  },
  {
   "cell_type": "code",
   "execution_count": 46,
   "metadata": {},
   "outputs": [
    {
     "data": {
      "text/plain": [
       "Text(0.5, 0, 'Number of words')"
      ]
     },
     "execution_count": 46,
     "metadata": {},
     "output_type": "execute_result"
    },
    {
     "data": {
      "image/png": "[encoded data removed]",
      "text/plain": [
       "<Figure size 800x500 with 1 Axes>"
      ]
     },
     "metadata": {},
     "output_type": "display_data"
    }
   ],
   "source": [
    "plt.rcParams.update({'font.size': 18})\n",
    "plt.figure(figsize = (8,5))\n",
    "sns.histplot(\n",
    "    pd.concat(all_df, ignore_index= True),\n",
    "    x = 'num_words',\n",
    "    hue = 'word_weighting',\n",
    "    alpha = 0.4,\n",
    "    palette = 'seismic'\n",
    ")\n",
    "\n",
    "plt.xlabel(\"Number of words\")\n"
   ]
  },
  {
   "cell_type": "markdown",
   "metadata": {},
   "source": [
    "## Cutting text"
   ]
  },
  {
   "cell_type": "markdown",
   "metadata": {},
   "source": [
    "Since we are limited on GPU memory, we have a limit of text size in our dataset. This limit is around 4000 tokens."
   ]
  },
  {
   "cell_type": "code",
   "execution_count": 9,
   "metadata": {},
   "outputs": [],
   "source": [
    "tokenizer = AutoTokenizer.from_pretrained(\"Qwen/Qwen2.5-0.5B-Instruct\", cache_dir = '/Data')"
   ]
  },
  {
   "cell_type": "code",
   "execution_count": 10,
   "metadata": {},
   "outputs": [
    {
     "data": {
      "text/html": [
       "<div>\n",
       "<style scoped>\n",
       "    .dataframe tbody tr th:only-of-type {\n",
       "        vertical-align: middle;\n",
       "    }\n",
       "\n",
       "    .dataframe tbody tr th {\n",
       "        vertical-align: top;\n",
       "    }\n",
       "\n",
       "    .dataframe thead th {\n",
       "        text-align: right;\n",
       "    }\n",
       "</style>\n",
       "<table border=\"1\" class=\"dataframe\">\n",
       "  <thead>\n",
       "    <tr style=\"text-align: right;\">\n",
       "      <th></th>\n",
       "      <th>id</th>\n",
       "      <th>url</th>\n",
       "      <th>title</th>\n",
       "      <th>text</th>\n",
       "      <th>num_views</th>\n",
       "      <th>first_paragraph</th>\n",
       "      <th>predicted_topic</th>\n",
       "      <th>__index_level_0__</th>\n",
       "      <th>num_words</th>\n",
       "      <th>weight</th>\n",
       "      <th>word_weighting</th>\n",
       "    </tr>\n",
       "  </thead>\n",
       "  <tbody>\n",
       "    <tr>\n",
       "      <th>4629</th>\n",
       "      <td>9513</td>\n",
       "      <td>https://pt.wikipedia.org/wiki/Conhecimento</td>\n",
       "      <td>Conhecimento</td>\n",
       "      <td>Conhecimento (do latim cognoscere, \"ato de con...</td>\n",
       "      <td>129010.0</td>\n",
       "      <td>Conhecimento (do latim cognoscere, \"ato de con...</td>\n",
       "      <td>politica e negócios</td>\n",
       "      <td>4656</td>\n",
       "      <td>2212</td>\n",
       "      <td>2.853701e+08</td>\n",
       "      <td>True</td>\n",
       "    </tr>\n",
       "    <tr>\n",
       "      <th>691</th>\n",
       "      <td>1337</td>\n",
       "      <td>https://pt.wikipedia.org/wiki/Nazismo</td>\n",
       "      <td>Nazismo</td>\n",
       "      <td>O nazismo (), oficialmente nacional-socialismo...</td>\n",
       "      <td>467240.0</td>\n",
       "      <td>O nazismo (), oficialmente nacional-socialismo...</td>\n",
       "      <td>politica e negócios</td>\n",
       "      <td>697</td>\n",
       "      <td>10530</td>\n",
       "      <td>4.920037e+09</td>\n",
       "      <td>True</td>\n",
       "    </tr>\n",
       "    <tr>\n",
       "      <th>901</th>\n",
       "      <td>1718</td>\n",
       "      <td>https://pt.wikipedia.org/wiki/Sergipe</td>\n",
       "      <td>Sergipe</td>\n",
       "      <td>Sergipe é uma das 27 unidades federativas do B...</td>\n",
       "      <td>314672.0</td>\n",
       "      <td>Sergipe é uma das 27 unidades federativas do B...</td>\n",
       "      <td>politica e negócios</td>\n",
       "      <td>908</td>\n",
       "      <td>5172</td>\n",
       "      <td>1.627484e+09</td>\n",
       "      <td>True</td>\n",
       "    </tr>\n",
       "    <tr>\n",
       "      <th>1465</th>\n",
       "      <td>3832</td>\n",
       "      <td>https://pt.wikipedia.org/wiki/Su%C3%AD%C3%A7a</td>\n",
       "      <td>Suíça</td>\n",
       "      <td>Suíça ( ; em suíço-alemão: Schwyz ou Schwiiz ;...</td>\n",
       "      <td>588196.0</td>\n",
       "      <td>Suíça ( ; em suíço-alemão: Schwyz ou Schwiiz ;...</td>\n",
       "      <td>politica e negócios</td>\n",
       "      <td>1475</td>\n",
       "      <td>9452</td>\n",
       "      <td>5.559629e+09</td>\n",
       "      <td>True</td>\n",
       "    </tr>\n",
       "    <tr>\n",
       "      <th>48</th>\n",
       "      <td>302</td>\n",
       "      <td>https://pt.wikipedia.org/wiki/Arist%C3%B3teles</td>\n",
       "      <td>Aristóteles</td>\n",
       "      <td>Aristóteles (; Estagira,  – Atenas, ) foi um f...</td>\n",
       "      <td>348607.0</td>\n",
       "      <td>Aristóteles (; Estagira,  – Atenas, ) foi um f...</td>\n",
       "      <td>politica e negócios</td>\n",
       "      <td>49</td>\n",
       "      <td>7075</td>\n",
       "      <td>2.466395e+09</td>\n",
       "      <td>True</td>\n",
       "    </tr>\n",
       "  </tbody>\n",
       "</table>\n",
       "</div>"
      ],
      "text/plain": [
       "        id                                             url         title  \\\n",
       "4629  9513      https://pt.wikipedia.org/wiki/Conhecimento  Conhecimento   \n",
       "691   1337           https://pt.wikipedia.org/wiki/Nazismo       Nazismo   \n",
       "901   1718           https://pt.wikipedia.org/wiki/Sergipe       Sergipe   \n",
       "1465  3832   https://pt.wikipedia.org/wiki/Su%C3%AD%C3%A7a         Suíça   \n",
       "48     302  https://pt.wikipedia.org/wiki/Arist%C3%B3teles   Aristóteles   \n",
       "\n",
       "                                                   text  num_views  \\\n",
       "4629  Conhecimento (do latim cognoscere, \"ato de con...   129010.0   \n",
       "691   O nazismo (), oficialmente nacional-socialismo...   467240.0   \n",
       "901   Sergipe é uma das 27 unidades federativas do B...   314672.0   \n",
       "1465  Suíça ( ; em suíço-alemão: Schwyz ou Schwiiz ;...   588196.0   \n",
       "48    Aristóteles (; Estagira,  – Atenas, ) foi um f...   348607.0   \n",
       "\n",
       "                                        first_paragraph      predicted_topic  \\\n",
       "4629  Conhecimento (do latim cognoscere, \"ato de con...  politica e negócios   \n",
       "691   O nazismo (), oficialmente nacional-socialismo...  politica e negócios   \n",
       "901   Sergipe é uma das 27 unidades federativas do B...  politica e negócios   \n",
       "1465  Suíça ( ; em suíço-alemão: Schwyz ou Schwiiz ;...  politica e negócios   \n",
       "48    Aristóteles (; Estagira,  – Atenas, ) foi um f...  politica e negócios   \n",
       "\n",
       "      __index_level_0__  num_words        weight  word_weighting  \n",
       "4629               4656       2212  2.853701e+08            True  \n",
       "691                 697      10530  4.920037e+09            True  \n",
       "901                 908       5172  1.627484e+09            True  \n",
       "1465               1475       9452  5.559629e+09            True  \n",
       "48                   49       7075  2.466395e+09            True  "
      ]
     },
     "execution_count": 10,
     "metadata": {},
     "output_type": "execute_result"
    }
   ],
   "source": [
    "sampled_df = pd.concat(all_df).query(\"word_weighting == True\")\n",
    "sampled_df.head()"
   ]
  },
  {
   "cell_type": "code",
   "execution_count": 11,
   "metadata": {},
   "outputs": [
    {
     "name": "stderr",
     "output_type": "stream",
     "text": [
      "100%|██████████| 5000/5000 [00:41<00:00, 120.03it/s]\n"
     ]
    }
   ],
   "source": [
    "def get_num_tokens(text, tokenizer):\n",
    "    return len(tokenizer(text)['input_ids'])\n",
    "\n",
    "sampled_df['num_tokens'] = sampled_df['text']\\\n",
    "    .progress_apply(get_num_tokens, tokenizer = tokenizer)"
   ]
  },
  {
   "cell_type": "code",
   "execution_count": 12,
   "metadata": {},
   "outputs": [
    {
     "data": {
      "text/plain": [
       "<Axes: xlabel='num_tokens', ylabel='Count'>"
      ]
     },
     "execution_count": 12,
     "metadata": {},
     "output_type": "execute_result"
    },
    {
     "data": {
      "image/png": "[encoded data removed]",
      "text/plain": [
       "<Figure size 800x500 with 1 Axes>"
      ]
     },
     "metadata": {},
     "output_type": "display_data"
    }
   ],
   "source": [
    "plt.rcParams.update({'font.size': 18})\n",
    "plt.figure(figsize = (8,5))\n",
    "sns.histplot(sampled_df['num_tokens'])"
   ]
  },
  {
   "cell_type": "code",
   "execution_count": 28,
   "metadata": {},
   "outputs": [
    {
     "name": "stderr",
     "output_type": "stream",
     "text": [
      "100%|██████████| 5000/5000 [00:19<00:00, 250.81it/s]\n"
     ]
    }
   ],
   "source": [
    "sampled_df['new_text'] = sampled_df['text']\\\n",
    "    .progress_apply(\n",
    "        trim_text_to_token_limit,\n",
    "        tokenizer = tokenizer\n",
    "    )"
   ]
  },
  {
   "cell_type": "code",
   "execution_count": 29,
   "metadata": {},
   "outputs": [
    {
     "data": {
      "text/html": [
       "<div>\n",
       "<style scoped>\n",
       "    .dataframe tbody tr th:only-of-type {\n",
       "        vertical-align: middle;\n",
       "    }\n",
       "\n",
       "    .dataframe tbody tr th {\n",
       "        vertical-align: top;\n",
       "    }\n",
       "\n",
       "    .dataframe thead th {\n",
       "        text-align: right;\n",
       "    }\n",
       "</style>\n",
       "<table border=\"1\" class=\"dataframe\">\n",
       "  <thead>\n",
       "    <tr style=\"text-align: right;\">\n",
       "      <th></th>\n",
       "      <th>id</th>\n",
       "      <th>url</th>\n",
       "      <th>title</th>\n",
       "      <th>text</th>\n",
       "      <th>num_views</th>\n",
       "      <th>first_paragraph</th>\n",
       "      <th>predicted_topic</th>\n",
       "      <th>__index_level_0__</th>\n",
       "      <th>num_words</th>\n",
       "      <th>weight</th>\n",
       "      <th>word_weighting</th>\n",
       "      <th>num_tokens</th>\n",
       "      <th>new_text</th>\n",
       "    </tr>\n",
       "  </thead>\n",
       "  <tbody>\n",
       "    <tr>\n",
       "      <th>4629</th>\n",
       "      <td>9513</td>\n",
       "      <td>https://pt.wikipedia.org/wiki/Conhecimento</td>\n",
       "      <td>Conhecimento</td>\n",
       "      <td>Conhecimento (do latim cognoscere, \"ato de con...</td>\n",
       "      <td>129010.0</td>\n",
       "      <td>Conhecimento (do latim cognoscere, \"ato de con...</td>\n",
       "      <td>politica e negócios</td>\n",
       "      <td>4656</td>\n",
       "      <td>2212</td>\n",
       "      <td>2.853701e+08</td>\n",
       "      <td>True</td>\n",
       "      <td>4010</td>\n",
       "      <td>Conhecimento (do latim cognoscere, \"ato de con...</td>\n",
       "    </tr>\n",
       "    <tr>\n",
       "      <th>691</th>\n",
       "      <td>1337</td>\n",
       "      <td>https://pt.wikipedia.org/wiki/Nazismo</td>\n",
       "      <td>Nazismo</td>\n",
       "      <td>O nazismo (), oficialmente nacional-socialismo...</td>\n",
       "      <td>467240.0</td>\n",
       "      <td>O nazismo (), oficialmente nacional-socialismo...</td>\n",
       "      <td>politica e negócios</td>\n",
       "      <td>697</td>\n",
       "      <td>10530</td>\n",
       "      <td>4.920037e+09</td>\n",
       "      <td>True</td>\n",
       "      <td>19394</td>\n",
       "      <td>O nazismo (), oficialmente nacional-socialismo...</td>\n",
       "    </tr>\n",
       "    <tr>\n",
       "      <th>901</th>\n",
       "      <td>1718</td>\n",
       "      <td>https://pt.wikipedia.org/wiki/Sergipe</td>\n",
       "      <td>Sergipe</td>\n",
       "      <td>Sergipe é uma das 27 unidades federativas do B...</td>\n",
       "      <td>314672.0</td>\n",
       "      <td>Sergipe é uma das 27 unidades federativas do B...</td>\n",
       "      <td>politica e negócios</td>\n",
       "      <td>908</td>\n",
       "      <td>5172</td>\n",
       "      <td>1.627484e+09</td>\n",
       "      <td>True</td>\n",
       "      <td>9891</td>\n",
       "      <td>Sergipe é uma das 27 unidades federativas do B...</td>\n",
       "    </tr>\n",
       "    <tr>\n",
       "      <th>1465</th>\n",
       "      <td>3832</td>\n",
       "      <td>https://pt.wikipedia.org/wiki/Su%C3%AD%C3%A7a</td>\n",
       "      <td>Suíça</td>\n",
       "      <td>Suíça ( ; em suíço-alemão: Schwyz ou Schwiiz ;...</td>\n",
       "      <td>588196.0</td>\n",
       "      <td>Suíça ( ; em suíço-alemão: Schwyz ou Schwiiz ;...</td>\n",
       "      <td>politica e negócios</td>\n",
       "      <td>1475</td>\n",
       "      <td>9452</td>\n",
       "      <td>5.559629e+09</td>\n",
       "      <td>True</td>\n",
       "      <td>17521</td>\n",
       "      <td>Suíça ( ; em suíço-alemão: Schwyz ou Schwiiz ;...</td>\n",
       "    </tr>\n",
       "    <tr>\n",
       "      <th>48</th>\n",
       "      <td>302</td>\n",
       "      <td>https://pt.wikipedia.org/wiki/Arist%C3%B3teles</td>\n",
       "      <td>Aristóteles</td>\n",
       "      <td>Aristóteles (; Estagira,  – Atenas, ) foi um f...</td>\n",
       "      <td>348607.0</td>\n",
       "      <td>Aristóteles (; Estagira,  – Atenas, ) foi um f...</td>\n",
       "      <td>politica e negócios</td>\n",
       "      <td>49</td>\n",
       "      <td>7075</td>\n",
       "      <td>2.466395e+09</td>\n",
       "      <td>True</td>\n",
       "      <td>12841</td>\n",
       "      <td>Aristóteles (; Estagira,  – Atenas, ) foi um f...</td>\n",
       "    </tr>\n",
       "    <tr>\n",
       "      <th>...</th>\n",
       "      <td>...</td>\n",
       "      <td>...</td>\n",
       "      <td>...</td>\n",
       "      <td>...</td>\n",
       "      <td>...</td>\n",
       "      <td>...</td>\n",
       "      <td>...</td>\n",
       "      <td>...</td>\n",
       "      <td>...</td>\n",
       "      <td>...</td>\n",
       "      <td>...</td>\n",
       "      <td>...</td>\n",
       "      <td>...</td>\n",
       "    </tr>\n",
       "    <tr>\n",
       "      <th>4079</th>\n",
       "      <td>8371</td>\n",
       "      <td>https://pt.wikipedia.org/wiki/A%20Portuguesa</td>\n",
       "      <td>A Portuguesa</td>\n",
       "      <td>A Portuguesa, que hoje é um dos símbolos nacio...</td>\n",
       "      <td>73926.0</td>\n",
       "      <td>A Portuguesa, que hoje é um dos símbolos nacio...</td>\n",
       "      <td>geografia e historia</td>\n",
       "      <td>4105</td>\n",
       "      <td>1089</td>\n",
       "      <td>8.050541e+07</td>\n",
       "      <td>True</td>\n",
       "      <td>2265</td>\n",
       "      <td>A Portuguesa, que hoje é um dos símbolos nacio...</td>\n",
       "    </tr>\n",
       "    <tr>\n",
       "      <th>2669</th>\n",
       "      <td>6142</td>\n",
       "      <td>https://pt.wikipedia.org/wiki/Arouca</td>\n",
       "      <td>Arouca</td>\n",
       "      <td>Arouca é uma vila da Área Metropolitana do Por...</td>\n",
       "      <td>50575.0</td>\n",
       "      <td>Arouca é uma vila da Área Metropolitana do Por...</td>\n",
       "      <td>geografia e historia</td>\n",
       "      <td>2691</td>\n",
       "      <td>4803</td>\n",
       "      <td>2.429117e+08</td>\n",
       "      <td>True</td>\n",
       "      <td>9122</td>\n",
       "      <td>Arouca é uma vila da Área Metropolitana do Por...</td>\n",
       "    </tr>\n",
       "    <tr>\n",
       "      <th>18606</th>\n",
       "      <td>466465</td>\n",
       "      <td>https://pt.wikipedia.org/wiki/Rodrigo%20da%20F...</td>\n",
       "      <td>Rodrigo da Fonseca Magalhães</td>\n",
       "      <td>Rodrigo da Fonseca Magalhães (Condeixa-a-Nova,...</td>\n",
       "      <td>2797.0</td>\n",
       "      <td>Rodrigo da Fonseca Magalhães (Condeixa-a-Nova,...</td>\n",
       "      <td>geografia e historia</td>\n",
       "      <td>151110</td>\n",
       "      <td>3850</td>\n",
       "      <td>1.076845e+07</td>\n",
       "      <td>True</td>\n",
       "      <td>7178</td>\n",
       "      <td>Rodrigo da Fonseca Magalhães (Condeixa-a-Nova,...</td>\n",
       "    </tr>\n",
       "    <tr>\n",
       "      <th>12889</th>\n",
       "      <td>165327</td>\n",
       "      <td>https://pt.wikipedia.org/wiki/XviD</td>\n",
       "      <td>XviD</td>\n",
       "      <td>XviD é um software livre e codec de vídeo MPEG...</td>\n",
       "      <td>154654.0</td>\n",
       "      <td>XviD é um software livre e codec de vídeo MPEG...</td>\n",
       "      <td>geografia e historia</td>\n",
       "      <td>75133</td>\n",
       "      <td>525</td>\n",
       "      <td>8.119335e+07</td>\n",
       "      <td>True</td>\n",
       "      <td>900</td>\n",
       "      <td>XviD é um software livre e codec de vídeo MPEG...</td>\n",
       "    </tr>\n",
       "    <tr>\n",
       "      <th>45917</th>\n",
       "      <td>2863121</td>\n",
       "      <td>https://pt.wikipedia.org/wiki/The%20A-Team%20%...</td>\n",
       "      <td>The A-Team (filme)</td>\n",
       "      <td>The A-Team é um filme estadunidense dos género...</td>\n",
       "      <td>11608.0</td>\n",
       "      <td>The A-Team é um filme estadunidense dos género...</td>\n",
       "      <td>geografia e historia</td>\n",
       "      <td>530118</td>\n",
       "      <td>1129</td>\n",
       "      <td>1.310543e+07</td>\n",
       "      <td>True</td>\n",
       "      <td>1930</td>\n",
       "      <td>The A-Team é um filme estadunidense dos género...</td>\n",
       "    </tr>\n",
       "  </tbody>\n",
       "</table>\n",
       "<p>5000 rows × 13 columns</p>\n",
       "</div>"
      ],
      "text/plain": [
       "            id                                                url  \\\n",
       "4629      9513         https://pt.wikipedia.org/wiki/Conhecimento   \n",
       "691       1337              https://pt.wikipedia.org/wiki/Nazismo   \n",
       "901       1718              https://pt.wikipedia.org/wiki/Sergipe   \n",
       "1465      3832      https://pt.wikipedia.org/wiki/Su%C3%AD%C3%A7a   \n",
       "48         302     https://pt.wikipedia.org/wiki/Arist%C3%B3teles   \n",
       "...        ...                                                ...   \n",
       "4079      8371       https://pt.wikipedia.org/wiki/A%20Portuguesa   \n",
       "2669      6142               https://pt.wikipedia.org/wiki/Arouca   \n",
       "18606   466465  https://pt.wikipedia.org/wiki/Rodrigo%20da%20F...   \n",
       "12889   165327                 https://pt.wikipedia.org/wiki/XviD   \n",
       "45917  2863121  https://pt.wikipedia.org/wiki/The%20A-Team%20%...   \n",
       "\n",
       "                              title  \\\n",
       "4629                   Conhecimento   \n",
       "691                         Nazismo   \n",
       "901                         Sergipe   \n",
       "1465                          Suíça   \n",
       "48                      Aristóteles   \n",
       "...                             ...   \n",
       "4079                   A Portuguesa   \n",
       "2669                         Arouca   \n",
       "18606  Rodrigo da Fonseca Magalhães   \n",
       "12889                          XviD   \n",
       "45917            The A-Team (filme)   \n",
       "\n",
       "                                                    text  num_views  \\\n",
       "4629   Conhecimento (do latim cognoscere, \"ato de con...   129010.0   \n",
       "691    O nazismo (), oficialmente nacional-socialismo...   467240.0   \n",
       "901    Sergipe é uma das 27 unidades federativas do B...   314672.0   \n",
       "1465   Suíça ( ; em suíço-alemão: Schwyz ou Schwiiz ;...   588196.0   \n",
       "48     Aristóteles (; Estagira,  – Atenas, ) foi um f...   348607.0   \n",
       "...                                                  ...        ...   \n",
       "4079   A Portuguesa, que hoje é um dos símbolos nacio...    73926.0   \n",
       "2669   Arouca é uma vila da Área Metropolitana do Por...    50575.0   \n",
       "18606  Rodrigo da Fonseca Magalhães (Condeixa-a-Nova,...     2797.0   \n",
       "12889  XviD é um software livre e codec de vídeo MPEG...   154654.0   \n",
       "45917  The A-Team é um filme estadunidense dos género...    11608.0   \n",
       "\n",
       "                                         first_paragraph  \\\n",
       "4629   Conhecimento (do latim cognoscere, \"ato de con...   \n",
       "691    O nazismo (), oficialmente nacional-socialismo...   \n",
       "901    Sergipe é uma das 27 unidades federativas do B...   \n",
       "1465   Suíça ( ; em suíço-alemão: Schwyz ou Schwiiz ;...   \n",
       "48     Aristóteles (; Estagira,  – Atenas, ) foi um f...   \n",
       "...                                                  ...   \n",
       "4079   A Portuguesa, que hoje é um dos símbolos nacio...   \n",
       "2669   Arouca é uma vila da Área Metropolitana do Por...   \n",
       "18606  Rodrigo da Fonseca Magalhães (Condeixa-a-Nova,...   \n",
       "12889  XviD é um software livre e codec de vídeo MPEG...   \n",
       "45917  The A-Team é um filme estadunidense dos género...   \n",
       "\n",
       "            predicted_topic  __index_level_0__  num_words        weight  \\\n",
       "4629    politica e negócios               4656       2212  2.853701e+08   \n",
       "691     politica e negócios                697      10530  4.920037e+09   \n",
       "901     politica e negócios                908       5172  1.627484e+09   \n",
       "1465    politica e negócios               1475       9452  5.559629e+09   \n",
       "48      politica e negócios                 49       7075  2.466395e+09   \n",
       "...                     ...                ...        ...           ...   \n",
       "4079   geografia e historia               4105       1089  8.050541e+07   \n",
       "2669   geografia e historia               2691       4803  2.429117e+08   \n",
       "18606  geografia e historia             151110       3850  1.076845e+07   \n",
       "12889  geografia e historia              75133        525  8.119335e+07   \n",
       "45917  geografia e historia             530118       1129  1.310543e+07   \n",
       "\n",
       "       word_weighting  num_tokens  \\\n",
       "4629             True        4010   \n",
       "691              True       19394   \n",
       "901              True        9891   \n",
       "1465             True       17521   \n",
       "48               True       12841   \n",
       "...               ...         ...   \n",
       "4079             True        2265   \n",
       "2669             True        9122   \n",
       "18606            True        7178   \n",
       "12889            True         900   \n",
       "45917            True        1930   \n",
       "\n",
       "                                                new_text  \n",
       "4629   Conhecimento (do latim cognoscere, \"ato de con...  \n",
       "691    O nazismo (), oficialmente nacional-socialismo...  \n",
       "901    Sergipe é uma das 27 unidades federativas do B...  \n",
       "1465   Suíça ( ; em suíço-alemão: Schwyz ou Schwiiz ;...  \n",
       "48     Aristóteles (; Estagira,  – Atenas, ) foi um f...  \n",
       "...                                                  ...  \n",
       "4079   A Portuguesa, que hoje é um dos símbolos nacio...  \n",
       "2669   Arouca é uma vila da Área Metropolitana do Por...  \n",
       "18606  Rodrigo da Fonseca Magalhães (Condeixa-a-Nova,...  \n",
       "12889  XviD é um software livre e codec de vídeo MPEG...  \n",
       "45917  The A-Team é um filme estadunidense dos género...  \n",
       "\n",
       "[5000 rows x 13 columns]"
      ]
     },
     "execution_count": 29,
     "metadata": {},
     "output_type": "execute_result"
    }
   ],
   "source": [
    "sampled_df"
   ]
  },
  {
   "cell_type": "code",
   "execution_count": 30,
   "metadata": {},
   "outputs": [
    {
     "name": "stderr",
     "output_type": "stream",
     "text": [
      "  0%|          | 0/5000 [00:00<?, ?it/s]"
     ]
    },
    {
     "name": "stderr",
     "output_type": "stream",
     "text": [
      "100%|██████████| 5000/5000 [00:12<00:00, 410.30it/s]\n"
     ]
    }
   ],
   "source": [
    "num_tokens_new_text = sampled_df['new_text'].progress_apply(get_num_tokens, tokenizer = tokenizer)"
   ]
  },
  {
   "cell_type": "code",
   "execution_count": 32,
   "metadata": {},
   "outputs": [
    {
     "data": {
      "text/plain": [
       "Text(0.5, 0, 'Number of tokens')"
      ]
     },
     "execution_count": 32,
     "metadata": {},
     "output_type": "execute_result"
    },
    {
     "data": {
      "image/png": "[encoded data removed]",
      "text/plain": [
       "<Figure size 800x500 with 1 Axes>"
      ]
     },
     "metadata": {},
     "output_type": "display_data"
    }
   ],
   "source": [
    "plt.rcParams.update({'font.size': 18})\n",
    "plt.figure(figsize = (8,5))\n",
    "sns.histplot(num_tokens_new_text)\n",
    "\n",
    "plt.xlabel(\"Number of tokens\")"
   ]
  },
  {
   "cell_type": "code",
   "execution_count": 34,
   "metadata": {},
   "outputs": [],
   "source": [
    "sampled_df['num_new_tokens'] = num_tokens_new_text"
   ]
  },
  {
   "cell_type": "code",
   "execution_count": 37,
   "metadata": {},
   "outputs": [],
   "source": [
    "sampled_df = sampled_df.rename(columns={\n",
    "    'text': 'base_text',\n",
    "    'new_text':'text',\n",
    "    'num_tokens': 'num_tokens_base_text',\n",
    "    'num_new_tokens': 'num_tokens',\n",
    "})\n",
    "sampled_df.to_json(\"data/wikipedia_dataset.json\")"
   ]
  },
  {
   "cell_type": "code",
   "execution_count": 45,
   "metadata": {},
   "outputs": [
    {
     "name": "stdout",
     "output_type": "stream",
     "text": [
      "Amazonas é uma das 27 unidades federativas do Brasil. Está situado na Região Norte, sendo o maior estado do país em extensão territorial, com uma área de , constituindo-se na nona maior subdivisão mundial, sendo maior que as áreas da França, Espanha, Suécia e Grécia somadas. Seria o décimo sexto maior país do mundo em área territorial, pouco superior à Mongólia. É maior que a região Nordeste, e maior que as regiões Sul e Sudeste juntas, e equivale a 2,25 vezes a área do estado norte-americano do Texas. A área média de seus 62 municípios é de , superior à área do estado brasileiro de Sergipe. O maior de seus municípios em extensão territorial é Barcelos, com  e o menor é Iranduba, com . Localiza-se no território amazonense o Pico da Neblina, ponto mais alto do Brasil, com  metros de altitude. Sua capital é o município de Manaus e seu atual governador é Wilson Lima.\n",
      "\n",
      "Com mais de 4,2 milhões de habitantes ou cerca de 2% da população brasileira, é o segundo estado mais populoso da Região Norte e o décimo terceiro mais populoso do Brasil. As cidades mais populosas são: Manaus, com 2,2 milhões de habitantes em 2021, Parintins, com , Itacoatiara com , Manacapuru com  e Coari com  habitantes. O estado é ainda, subdividido em 4 regiões geográficas intermediárias e 11 regiões geográficas imediatas. Seus limites são com o estado do Pará ao leste; Mato Grosso ao sudeste; Rondônia e Acre ao sul e sudoeste; Roraima ao norte; além da Venezuela, Colômbia e Peru ao norte, noroeste e oeste, respectivamente. A Região Metropolitana de Manaus, com população superior aos 2,7 milhões de habitantes, é sua única região metropolitana. O estado possui um dos mais baixos índices de densidade demográfica no país, superior apenas ao do estado vizinho, Roraima. Conforme dados do Instituto Brasileiro de Geografia e Estatística, em 2019 a densidade demográfica equivale a 2,63 habitantes por quilômetro quadrado. O Amazonas possui o quarto maior Índice de Desenvolvimento Humano (IDH) e o 3.º maior PIB per capita entre todos os estados da região Norte do Brasil.\n"
     ]
    }
   ],
   "source": [
    "print(sampled_df.sample(n = 1)['text'].item())"
   ]
  }
 ],
 "metadata": {
  "kernelspec": {
   "display_name": "base",
   "language": "python",
   "name": "python3"
  },
  "language_info": {
   "codemirror_mode": {
    "name": "ipython",
    "version": 3
   },
   "file_extension": ".py",
   "mimetype": "text/x-python",
   "name": "python",
   "nbconvert_exporter": "python",
   "pygments_lexer": "ipython3",
   "version": "3.11.3"
  }
 },
 "nbformat": 4,
 "nbformat_minor": 2
}
